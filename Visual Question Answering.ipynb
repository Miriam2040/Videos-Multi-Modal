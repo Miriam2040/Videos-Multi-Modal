{
 "cells": [
  {
   "cell_type": "markdown",
   "id": "70758354-3bb4-42ec-9a9e-7cbc8481e851",
   "metadata": {},
   "source": [
    "# Libraries"
   ]
  },
  {
   "cell_type": "code",
   "execution_count": 1,
   "id": "f28539ae-5ed3-4901-b817-37f28157b102",
   "metadata": {},
   "outputs": [],
   "source": [
    "import cv2\n",
    "import numpy as np\n",
    "import requests\n",
    "import json\n",
    "import base64\n",
    "from PIL import Image\n",
    "from io import BytesIO\n",
    "from IPython.display import display, HTML\n",
    "import matplotlib.pyplot as plt\n",
    "import pandas as pd\n",
    "import io"
   ]
  },
  {
   "cell_type": "markdown",
   "id": "65f14536-4985-437e-bc43-e08574a043e1",
   "metadata": {},
   "source": [
    "# Video Question Answering System using LLaVA"
   ]
  },
  {
   "cell_type": "markdown",
   "id": "891b8c83-df2c-4911-a834-c77d919d28d3",
   "metadata": {
    "tags": []
   },
   "source": [
    "Our VideoQASystem leverages [LLaVA](https://llava-vl.github.io/), a state-of-the-art open-source multimodal model that combines vision and language understanding. While LLaVA was originally designed for single-image multimodal interactions, we extend its capabilities to video analysis through sequential frame processing. The system demonstrates how open-source multimodal AI can understand both visual content and natural language queries to enable intelligent video analysis.\n",
    "\n",
    "**System Architecture**\n",
    "\n",
    "1. **Video Processing**:\n",
    "  - Extracts key frames uniformly from video (4 frames by default)\n",
    "  - Processes each frame independently through LLaVA's multimodal encoder\n",
    "  - Combines insights from multiple frames for temporal understanding\n",
    "\n",
    "2. **Question Answering Pipeline**:\n",
    "  - Takes free-form questions about video content\n",
    "  - Analyzes each frame with LLaVA's multimodal capabilities\n",
    "  - Synthesizes observations into coherent answers using Llama-2 LLM\n",
    "  - Displays video alongside answers for reference\n",
    "\n",
    "3. **Question Generation**:\n",
    "  - Generates relevant questions from video descriptions\n",
    "  - Creates diverse questions focusing on visible content\n",
    "  - Automatically answers generated questions using multimodal analysis\n",
    "  - Shows both video and original description\n",
    "\n",
    "**Implementation Details**\n",
    "- Uses open-source Ollama API to access LLaVA's multimodal capabilities\n",
    "- Converts frames to base64 for API compatibility\n",
    "- Handles both direct questions and auto-generated questions\n",
    "- Provides comprehensive multimodal analysis with video display\n",
    "\n",
    "**Key Features**\n",
    "- Zero-shot multimodal understanding\n",
    "- Multi-frame temporal analysis\n",
    "- Natural language interaction\n",
    "- Visual context preservation\n",
    "- Automated question generation and answering\n",
    "\n",
    "The system leverages open-source tools and LLaVA's powerful multimodal capabilities to bridge the gap between visual understanding and natural language processing, enabling sophisticated video analysis through sequential frame processing and temporal context integration. This open-source implementation makes advanced video understanding accessible and customizable for various applications."
   ]
  },
  {
   "cell_type": "code",
   "execution_count": 2,
   "id": "75641a0b-0d0f-46dc-af05-00897dbca61c",
   "metadata": {
    "tags": []
   },
   "outputs": [],
   "source": [
    "class VideoQASystem:\n",
    "    def __init__(self, df, video_base_path=\"test_1k_compress\"):\n",
    "        self.df = df\n",
    "        self.video_base_path = video_base_path\n",
    "\n",
    "    def extract_frames(self, video_id: str, num_frames: int = 4):\n",
    "        \"\"\"Extract frames from video\"\"\"\n",
    "        video_path = f\"{self.video_base_path}/{video_id}.mp4\"\n",
    "        cap = cv2.VideoCapture(video_path)\n",
    "        \n",
    "        total_frames = int(cap.get(cv2.CAP_PROP_FRAME_COUNT))\n",
    "        frames_to_sample = np.linspace(0, total_frames-1, num_frames, dtype=int)\n",
    "        \n",
    "        frames = []\n",
    "        for frame_idx in frames_to_sample:\n",
    "            cap.set(cv2.CAP_PROP_POS_FRAMES, frame_idx)\n",
    "            ret, frame = cap.read()\n",
    "            if ret:\n",
    "                frame = cv2.cvtColor(frame, cv2.COLOR_BGR2RGB)\n",
    "                frames.append(frame)\n",
    "        \n",
    "        cap.release()\n",
    "        return frames\n",
    "\n",
    "    def frame_to_base64(self, frame):\n",
    "        \"\"\"Convert numpy array frame to base64 string\"\"\"\n",
    "        pil_image = Image.fromarray(frame)\n",
    "        buffer = io.BytesIO()\n",
    "        pil_image.save(buffer, format='JPEG', quality=95)\n",
    "        return base64.b64encode(buffer.getvalue()).decode('utf-8')\n",
    "\n",
    "    def display_video(self, video_id: str):\n",
    "        \"\"\"Display video and its description with thumbnail\"\"\"\n",
    "        from PIL import Image\n",
    "        import io\n",
    "        \n",
    "        video_desc = self.df[self.df['video_id'] == video_id]['sentence'].iloc[0]\n",
    "        video_path = f\"{self.video_base_path}/{video_id}.mp4\"\n",
    "        \n",
    "        # Get video thumbnail\n",
    "        cap = cv2.VideoCapture(video_path)\n",
    "        ret, frame = cap.read()\n",
    "        cap.release()\n",
    "        \n",
    "        if ret:\n",
    "            # Convert BGR to RGB using PIL\n",
    "            frame = cv2.cvtColor(frame, cv2.COLOR_BGR2RGB)\n",
    "            pil_image = Image.fromarray(frame)\n",
    "            \n",
    "            # Save to base64 using PIL\n",
    "            buffer = io.BytesIO()\n",
    "            pil_image.save(buffer, format='JPEG', quality=95)\n",
    "            img_base64 = base64.b64encode(buffer.getvalue()).decode('utf-8')\n",
    "            \n",
    "            display(HTML(f\"\"\"\n",
    "            <div style=\"border: 1px solid #ddd; padding: 15px; margin: 15px 0; border-radius: 5px;\">\n",
    "                <h3 style=\"margin-top: 0;\">📽️ Video Analysis: {video_id}</h3>\n",
    "                <p><b>📝 Description:</b> {video_desc}</p>\n",
    "                \n",
    "                <!-- Thumbnail for GitHub -->\n",
    "                <img src=\"data:image/jpeg;base64,{img_base64}\" \n",
    "                     alt=\"Video thumbnail\" \n",
    "                     style=\"max-width: 500px; width: 100%; margin-bottom: 10px;\">\n",
    "                \n",
    "                <!-- Video player (will work in Jupyter) -->\n",
    "                <video width=\"500\" controls>\n",
    "                    <source src=\"{video_path}\" type=\"video/mp4\">\n",
    "                    Your browser does not support the video tag.\n",
    "                </video>\n",
    "            </div>\n",
    "            \"\"\"))\n",
    "        else:\n",
    "            display(HTML(f\"\"\"\n",
    "            <div style=\"border: 1px solid #ddd; padding: 15px; margin: 15px 0; border-radius: 5px;\">\n",
    "                <h3 style=\"margin-top: 0;\">📽️ Video Analysis: {video_id}</h3>\n",
    "                <p><b>📝 Description:</b> {video_desc}</p>\n",
    "                <p>(Video preview not available: {video_path})</p>\n",
    "                \n",
    "                <video width=\"500\" controls>\n",
    "                    <source src=\"{video_path}\" type=\"video/mp4\">\n",
    "                    Your browser does not support the video tag.\n",
    "                </video>\n",
    "            </div>\n",
    "            \"\"\"))\n",
    "\n",
    "    def answer_question(self, video_id: str, question: str, show_video: bool = True):\n",
    "        \"\"\"Analyze video frames sequentially with LLaVA\"\"\"\n",
    "        try:\n",
    "            # Only display video if show_video is True\n",
    "            if show_video:\n",
    "                self.display_video(video_id)\n",
    "\n",
    "            print(f\"❓ Question: {question}\\n\")\n",
    "            print(\"🔄 Analyzing frames...\")\n",
    "\n",
    "            frames = self.extract_frames(video_id, num_frames=4)\n",
    "\n",
    "            # Analyze each frame\n",
    "            frame_insights = []\n",
    "            for i, frame in enumerate(frames, 1):\n",
    "                print(f\"Processing frame {i}/{len(frames)}...\")\n",
    "                frame_prompt = f\"\"\"Frame {i}/{len(frames)}\n",
    "                Question: {question}\n",
    "                Describe what you see in this frame that helps answer the question.\"\"\"\n",
    "\n",
    "                response = requests.post(\n",
    "                    'http://opmlgpubuild01:11434/api/generate',\n",
    "                    json={\n",
    "                        'model': 'llava',\n",
    "                        'prompt': frame_prompt,\n",
    "                        'images': [self.frame_to_base64(frame)],\n",
    "                        'stream': False\n",
    "                    }\n",
    "                )\n",
    "\n",
    "                frame_insight = response.json().get('response', '').strip()\n",
    "                if frame_insight:\n",
    "                    frame_insights.append(frame_insight)\n",
    "\n",
    "            # Synthesize final answer\n",
    "            if frame_insights:\n",
    "                synthesis_prompt = f\"\"\"Based on these observations:\n",
    "                {' '.join(frame_insights)}\n",
    "\n",
    "                Provide a clear and concise answer to: {question}\"\"\"\n",
    "\n",
    "                final_response = requests.post(\n",
    "                    'http://opmlgpubuild01:11434/api/generate',\n",
    "                    json={\n",
    "                        'model': 'llama3',\n",
    "                        'prompt': synthesis_prompt,\n",
    "                        'stream': False\n",
    "                    }\n",
    "                )\n",
    "\n",
    "                answer = final_response.json().get('response', '').strip()\n",
    "                print(f\"\\n💡 Answer: {answer}\")\n",
    "                return answer\n",
    "            else:\n",
    "                return \"Could not analyze video frames.\"\n",
    "\n",
    "        except Exception as e:\n",
    "            return f\"Error: {str(e)}\"\n",
    "\n",
    "    def analyze_video_with_questions(self, video_id: str):\n",
    "        \"\"\"Complete video analysis with auto-generated questions and answers\"\"\"\n",
    "        # First display the video only once\n",
    "        self.display_video(video_id)\n",
    "        \n",
    "        # Get video description\n",
    "        video_desc = self.df[self.df['video_id'] == video_id]['sentence'].iloc[0]\n",
    "        \n",
    "        # Generate questions from description\n",
    "        print(\"\\n🤔 Generating relevant questions...\")\n",
    "        prompt = f\"\"\"Given this video description: \"{video_desc}\"\n",
    "        Generate 5 specific and relevant questions about what might be shown in the video.\n",
    "        Questions should focus on visible actions, objects, and details.\n",
    "        Make questions diverse and interesting.\n",
    "        Return only the questions, one per line.\"\"\"\n",
    "        \n",
    "        try:\n",
    "            response = requests.post(\n",
    "                'http://opmlgpubuild01:11434/api/generate',\n",
    "                json={\n",
    "                    'model': 'llama3',\n",
    "                    'prompt': prompt,\n",
    "                    'stream': False\n",
    "                }\n",
    "            )\n",
    "            \n",
    "            questions = [q.strip().lstrip('123456789.)- ') \n",
    "                        for q in response.json()['response'].strip().split('\\n')\n",
    "                        if '?' in q][:5]\n",
    "            \n",
    "            # Answer each question without showing video again\n",
    "            print(\"\\n📋 Questions & Answers:\")\n",
    "            for i, question in enumerate(questions, 1):\n",
    "                print(f\"\\n{'-'*50}\")\n",
    "                print(f\"Q{i}: {question}\")\n",
    "                # Pass show_video=False to avoid displaying video again\n",
    "                print(f\"A: {self.answer_question(video_id, question, show_video=False)}\")\n",
    "            \n",
    "            print(f\"\\n{'-'*50}\")\n",
    "            \n",
    "        except Exception as e:\n",
    "            print(f\"Error in analysis: {str(e)}\")"
   ]
  },
  {
   "cell_type": "markdown",
   "id": "5b90a771-fad9-4d3b-b75b-5af22a481493",
   "metadata": {},
   "source": [
    "# Data"
   ]
  },
  {
   "cell_type": "markdown",
   "id": "5e19eaba-031b-46a6-b01e-99833442aadd",
   "metadata": {},
   "source": [
    "We will use the 1K [MSR-VTT dataset](https://www.microsoft.com/en-us/research/publication/msr-vtt-a-large-video-description-dataset-for-bridging-video-and-language/), a subset of the Microsoft Research Video to Text dataset designed for open-domain video captioning"
   ]
  },
  {
   "cell_type": "code",
   "execution_count": 3,
   "id": "d54dd7c6-4d7f-4f15-9faf-eead6e0c7c97",
   "metadata": {},
   "outputs": [
    {
     "name": "stdout",
     "output_type": "stream",
     "text": [
      "  % Total    % Received % Xferd  Average Speed   Time    Time     Time  Current\n",
      "                                 Dload  Upload   Total   Spent    Left  Speed\n",
      "  0     0    0     0    0     0      0      0 --:--:-- --:--:-- --:--:--     0\n",
      "100  210M  100  210M    0     0  2258k      0  0:01:35  0:01:35 --:--:-- 2290k\n"
     ]
    }
   ],
   "source": [
    "! curl -L https://github.com/towhee-io/examples/releases/download/data/text_video_search.zip -O\n",
    "! unzip -q -o text_video_search.zip"
   ]
  },
  {
   "cell_type": "code",
   "execution_count": 4,
   "id": "4f7094bc-62c1-4876-99b5-8a99b27f220a",
   "metadata": {
    "tags": []
   },
   "outputs": [
    {
     "data": {
      "text/html": [
       "<div>\n",
       "<style scoped>\n",
       "    .dataframe tbody tr th:only-of-type {\n",
       "        vertical-align: middle;\n",
       "    }\n",
       "\n",
       "    .dataframe tbody tr th {\n",
       "        vertical-align: top;\n",
       "    }\n",
       "\n",
       "    .dataframe thead th {\n",
       "        text-align: right;\n",
       "    }\n",
       "</style>\n",
       "<table border=\"1\" class=\"dataframe\">\n",
       "  <thead>\n",
       "    <tr style=\"text-align: right;\">\n",
       "      <th></th>\n",
       "      <th>video_id</th>\n",
       "      <th>sentence</th>\n",
       "    </tr>\n",
       "  </thead>\n",
       "  <tbody>\n",
       "    <tr>\n",
       "      <th>0</th>\n",
       "      <td>video9770</td>\n",
       "      <td>a person is connecting something to system</td>\n",
       "    </tr>\n",
       "    <tr>\n",
       "      <th>1</th>\n",
       "      <td>video9771</td>\n",
       "      <td>a little girl does gymnastics</td>\n",
       "    </tr>\n",
       "    <tr>\n",
       "      <th>2</th>\n",
       "      <td>video7020</td>\n",
       "      <td>a woman creating a fondant baby and flower</td>\n",
       "    </tr>\n",
       "    <tr>\n",
       "      <th>3</th>\n",
       "      <td>video9773</td>\n",
       "      <td>a boy plays grand theft auto 5</td>\n",
       "    </tr>\n",
       "    <tr>\n",
       "      <th>4</th>\n",
       "      <td>video7026</td>\n",
       "      <td>a man is giving a review on a vehicle</td>\n",
       "    </tr>\n",
       "  </tbody>\n",
       "</table>\n",
       "</div>"
      ],
      "text/plain": [
       "    video_id                                    sentence\n",
       "0  video9770  a person is connecting something to system\n",
       "1  video9771               a little girl does gymnastics\n",
       "2  video7020  a woman creating a fondant baby and flower\n",
       "3  video9773              a boy plays grand theft auto 5\n",
       "4  video7026       a man is giving a review on a vehicle"
      ]
     },
     "execution_count": 4,
     "metadata": {},
     "output_type": "execute_result"
    }
   ],
   "source": [
    "data = pd.read_csv('MSRVTT_JSFUSION_test.csv')[['video_id', 'sentence']]\n",
    "data.head()"
   ]
  },
  {
   "cell_type": "markdown",
   "id": "75f80783-d917-4627-bc05-58cd6f82a477",
   "metadata": {},
   "source": [
    "# Video Q&A"
   ]
  },
  {
   "cell_type": "markdown",
   "id": "cc6b8ba6-2ce4-4b21-938d-179db7e122ab",
   "metadata": {},
   "source": [
    "The answer_question function takes a video ID and a question as input. It first displays the video and its original description. Then it extracts 4 key frames from the video, which are processed sequentially through LLaVA, a multimodal AI model. For each frame, LLaVA analyzes the visual content in context of the question and provides insights. Finally, these frame-by-frame insights are combined to generate a comprehensive answer that considers information from all parts of the video."
   ]
  },
  {
   "cell_type": "code",
   "execution_count": 5,
   "id": "d04da8b1-d27d-495e-a04a-6ff6753a2d90",
   "metadata": {
    "tags": []
   },
   "outputs": [
    {
     "data": {
      "text/html": [
       "\n",
       "            <div style=\"border: 1px solid #ddd; padding: 15px; margin: 15px 0; border-radius: 5px;\">\n",
       "                <h3 style=\"margin-top: 0;\">📽️ Video Analysis: video8869</h3>\n",
       "                <p><b>📝 Description:</b> a girl shows a pack of toy building blocks</p>\n",
       "                \n",
       "                <!-- Thumbnail for GitHub -->\n",
       "                <img src=\"data:image/jpeg;base64,/9j/4AAQSkZJRgABAQAAAQABAAD/2wBDAAIBAQEBAQIBAQECAgICAgQDAgICAgUEBAMEBgUGBgYFBgYGBwkIBgcJBwYGCAsICQoKCgoKBggLDAsKDAkKCgr/2wBDAQICAgICAgUDAwUKBwYHCgoKCgoKCgoKCgoKCgoKCgoKCgoKCgoKCgoKCgoKCgoKCgoKCgoKCgoKCgoKCgoKCgr/wAARCADgASoDASIAAhEBAxEB/8QAHwAAAQUBAQEBAQEAAAAAAAAAAAECAwQFBgcICQoL/8QAtRAAAgEDAwIEAwUFBAQAAAF9AQIDAAQRBRIhMUEGE1FhByJxFDKBkaEII0KxwRVS0fAkM2JyggkKFhcYGRolJicoKSo0NTY3ODk6Q0RFRkdISUpTVFVWV1hZWmNkZWZnaGlqc3R1dnd4eXqDhIWGh4iJipKTlJWWl5iZmqKjpKWmp6ipqrKztLW2t7i5usLDxMXGx8jJytLT1NXW19jZ2uHi4+Tl5ufo6erx8vP09fb3+Pn6/8QAHwEAAwEBAQEBAQEBAQAAAAAAAAECAwQFBgcICQoL/8QAtREAAgECBAQDBAcFBAQAAQJ3AAECAxEEBSExBhJBUQdhcRMiMoEIFEKRobHBCSMzUvAVYnLRChYkNOEl8RcYGRomJygpKjU2Nzg5OkNERUZHSElKU1RVVldYWVpjZGVmZ2hpanN0dXZ3eHl6goOEhYaHiImKkpOUlZaXmJmaoqOkpaanqKmqsrO0tba3uLm6wsPExcbHyMnK0tPU1dbX2Nna4uPk5ebn6Onq8vP09fb3+Pn6/9oADAMBAAIRAxEAPwD9PYJ6nrDttVAxhRj61PFrMB5LfiDXuGfspG/FNDjAqZJIyoxisSPUkz981Ytr5TyrfrWYeykbSPHnoOlSpJWPHqK89Ksx6hEwGT+dXL4Q9mzb8/8A2P1qdPuisJLv5R8w/OpY79s8MPfDVBn7NmvH3qTzPas6PVZfT9aljvXkP3P/AB6pkVys0Ef3+hp1Uo7yI85x6jdT/tq/3x/31UlezZeqxWb9om9P1qRZ88MKCeVl6neZ7VT84j7rY/GjzZf75/OgfIy9RVOO5UHlzipPtUPqaA5GWKKg+2J6n8qclyh6kgfSgORktFM+0Rev6Uz7SMZ5/SgORk1FRfaF/v8A6Uvnp/eqohyMkqOmPK3bGfXNM82T+9+lUTZk1V6Zvb1o3t60BZkr9fwpj9PxqL95TSxJ6GgnkYj9PxplJK2RkmonkjHXpWhLViV+n41E/X8KZJcgcJTPtI9B+dBlZodL0/Cq79fwpJZc1DJISevNaLQzeo6c4Soqa7bj1ptAE4+E+ug5aSEj2T/69PX4XayOfJjP0WvSutPERPeucz+vYhbM8zHw51dOlmpx6ClHw/1U8f2ex/AV6asQxk1JFbL3qeY1+v13ueXxeAtVPP8AZbH8qcfBV6OulN+deoi2UnA/lUn2BP7/AP47RzGn1qoeUHwZMOP7KP50h8NTW/LabIB65r1wWSEcP/47SfYE/uj8qOYSx877HlI0lh/A4pP7Ek7SS16wdKiJzsX/AL5pP7Ft/wDnkn/fNJu50LErseWjS3B/1ktOFpOBgRN+Veorolg337dTz3Wh9A0s9Ldfyp8w/rcDzAR3ijARqcsd4Tghh74r0v8A4R7Tf+eC/wDfNMHhjTZTzbgY9Fo5g+twPOxbzY++1O8mX++a9EHg/SMf8eY/75p3/CIaX/z7Ucxl9bgec+TL/fNPhSRT8zZHvXoEngvS35+zj8qb/wAIPpZ48kf980cwfW4HDZP9+lBboGruP+ED04+n/fNMm+HllnBfH4Ucw/rcDiwJD0NMkNyBXZt8OYIuY58Z9RTP+Fen/n4X8qOY1+tQOJzcetLsn9Grrpvh8ccTr+C1GvgOdT/x80cwfWKfc5JjOP71RzPcjG0t+Vdc3w+nb/l7H5VAfh5ddrtfyo5i/rFHucuZpBwQ9RC5J6Mfzrq2+H1yeS4J+tRXHgLVGGQFbHqwo5ifbUerRy/9sAdf/Qqj/tU/3j+ddGfAepdBbLTP+Ff6kP8AlyH61sbe2oeX3nNT6gpT5pTVeTUIhj99XUT+CNRC4+wx8dsVSm8Fapn/AI8FoMuaj3X3mH9uT/nqai+3p/fNbsngnUh101aqSeDb8H/kHflWgfue6+8xbi7Zm+SY49artf4OPtWTW3L4O1TIH2A/98mqlz4R1GLlrH/x00B+57r7zHlvAXyXJ9xSfbIf75/KtBvCmoMf+PJx+BqL/hEr0/8ALg/60B+57r7z2ZVLNgCpVjVegp6QhBgGp4rdGJI7UnBrc+euhI4C5BI4qUWwHRv0qWGAI+4Dmp0i7msuU0jaxBDalPmYjNSeUv8AkVIDEhxnmnxNDINyt1rCSOmN2rkaQqRS+StW47Uk8Y/On/Y39B+dQJNvco+StIkLE8/yq99mPt+dJ5D/APPMf99UDKZVlOaSrbqT2o+yN6frQZ1OhBHGOeakEX+yan8iQ/dGfoalkgd8fIfzoMZEH2dv7v61OLdRztH41L5OOwqTYe1JsjmZX8kf3V/KjyR/dX8quYPoaNp9KXMV7xVjtcdBQbfP3sH8KthD3pPJX0/WlzCcZMrNFgDAqOSHdjr+FXWiyaa8APampFWkZ0lsQM4J/CoHgIOCDWq9v2xUT2wPB9aq6LuzO8n2/So/J9v0rQktcfd4pnkP6inZiKXlJ6UeUnpVr7O/9xvyqPpRysrlZX+zR+lN8tfQflVqSJTzimeStaWYcvcz5LZQ25TjPtTWtt38f6VeMZIwVqKVUU8L+tFtSLme8KdSfoMU141z9z9atzW5YZVfqKhZGIzjkda0C6KvkJ/dH500RQjpEKlpr7vXigckivJBbCM/IPyqP7LbelWpI+nNN8v3oM7l0Qsx+UZ9ammurHTYfMvruOJfV2xmuP1T4k3l/dCx8JafIVf5WnaHOc+gGc1HFc6NbaRdz+K9Q1GLUgjrDCI9pyBwSzfd5/yeldUp07++7B7Ko9EtTV1D4l6cCbTw9pL30442EY2/UdcVXF7riyeb4t1qK2TtaWk6gD2bnNfM+lXHxp1T7TbeJPFP9nRzzdbCU79oPGSc5JGAfetr/hY/hjwMhspori9mixudFMrnPqwr3sTksKNG8asW/LX8b2PMwWY1MRUd4OKTtqrP7tz6YtNasbpFeC4DKTkYNWIboA5hevHfBf7QHwuvbr/hGv8AhJoodTt3CT2M/wAsiMRnGD1r0XS9bs71A0E6uG5BBFfJVovmdj6iNOUoKx2mnahcpB5rR+YPrWlE9tccQzDd6GuMsPFj6XqA0525U8HOa6Bdb0+4/ev+7k/vKcc1z+zmiJYaolc1/srf3hR9nNLpmoW2oxl4XDFeG9jVryz/AHaHNp6mfK72KDWSlt3H40vkFOp61bZcd6zLjXdNW+bTlnzMhwUpxk2zncWi3FHk9aeIyOi1h6hcX3L29w49AKw/+EhxOTJqG/P9yQGqauQ79EdwGQclwPqaaZoFOGuEH/Aq5ePxPpzsIbm8G73bNZviT4o+DfDpe285rq5Q8xxDA/P/AOtULlJ16o7l9S06P/WX0S/VxSf2xpP/AEEoP+/grwu68Q+L/H2srDpkFwIJOirFt2+2c816d4Y8IXsOniLVQkbFQAqsSRgVrGFNq7kKU5RlZo6ddT05/wDV30Tf7rZpJdTs413eaG9lrjfiJp/hr4eeEr7xp4q1+4gs9OhMszG428Yzgep9q/PP4yf8FdfFnhzxnPpvws+G9hdWMTkQXOq3cxkYDHJwwHr2rnxOIwGChz1all6P9EfbcHcBcV8e4qph8noc8oK8m2oxS823v5H6bTeJ9JgOJZiD6badaeI9IvZPKhuxu9GGK/Pf4I/8FOvhv8a/C1z4f+PvilPAevvNtsL2GGea1lUn5VJwSpwOSTjngcVo+Av+CrX7Mdn8TH8C+FPG+ueIdOsHW21fxPPp5igil37cqDyyk/xcAd6zhjMBXoKrTqJp/f8Adud2N8MuNctx1bB1MLJ1KWsrK6Xe0l7r+TP0ANzDKMROGNHDjnrXnGrX+oeebrQNQuJLd7CC6t5bf5v9bkjg/wCzg/jWefij4m0Mxi5vU3yf6tLweWz/AKV1KOmh8G4atdj1Ro8HLA0mweprhbD456YEjj1aNC7NtOxsAk9K3h8QrPHOkP8AhOn+NVyz7C5F3NsxqRjNRPaLgkKaz5/iH4XsYvO1O5nt08vezvbMVUd8kDHWsO++OXgmXUm0fRdXtbqRVDFvtSoFy2ADu6GiPPe1jblR0jqAxTOahLLyua4fXviighRIZSXk3IBFkjj3HXnj2+laPg/X5tRRVnD8DpnrW5DhJbnRlMnOainj6c1YaJlYqwxUc8fTmsyXTKU/3B9arTJ3FW7roPrUKoXBprsYyIZV245qKQcg1PKu7HNREAjBqxrYjkk6cU3zPaiTtTadmFkeH2Pjzxde67ZTReKoLazgvY3EFjFt+QHJAxn0xn3qx8V/jH4q1fWb+60Pw99skMmbWOWaQ+fGoGcdl69AAOPXmuX8F32k36W8mlWFzA+1hfLMF2MwxtMeOcYzkGtjVriXQ/B82opfvJBdztBaxlQfLViGkKEjnsOc9a/h+txHxPmXDP8AaVPHTi6kuaT5nJpJXXLfZXdnpv3P3inl+W4TGRpSoq0U1a39djmrbxxZeKNDuo/EmiNpN6YfLnt5lY5kb7qkrznoa+NP2hPjvrvivxxD8IfC3x+tPDviu+P2DSV0SzuppHAIKoFVCowO7cg8133/AAU01Txj8KP2a/Enjzwdrt1Zagll9q07UbW7KTG4cgn5gcqx5z+lfkr+zN8cPikn7dWl2ev+INf/ALcZoriznm155USOaNHLrscjYwbd6jPODX9A/R64nzri+n/YubTTkqjXO95e7F3fn6WPl+OsnwnD+SYjiLC00/ZxsoW/xM/X34Ex/tG+HY/7E+LHje18W3llG5W4fTTDOFUrubzXCmRl+Xjjr09fevBn7Q/hvwVepaeIdYvrSdpUha2niO6JicfPz8o/2un6Z898GfHXxPdafpOk+L7PUZr3SIQJNY0y7SObUbZPuLcSyhmV1zxKBv5IyK8m/bB8Z/GX9qsz48Qy6BYx2CWli8F+0EMYR8iNp3IaR2O352zyM8dK/tClwdhK9RYWvSjRpW1nz3s+j2d777K3rofxzHxKzZ4l4qFV1ara5Yctla2t+1vxPu1Pij4e1C6hi8PXDao8z7PPG6CMSFdyoGkUF2PAwoPJ611ugeM7OLT4rjXJlsg8xixcttAcdtxABPsOa+Fdf/anv7v4Q/DnwBe6bdQeLPCOhvZ6/fWdyi2t6+zy2eKSPOZGXa+44IYDrR/wV2/aq/aI8A/8E7fEHjL4V+KYJPElx4HM1vqGn6eWaPzJES4u0IGBcqjN+9XGGUnAIFfg3iMsXwhljrU4LmlONOLk/dvOooRk2vs63v2P6G4LzfBcUK8ZcyUW5JaNNK7Vn22Puy5/as/Zm+F3iO30L4kftHeBvD11dLiC01rxVaW0kpPI2rJIM57DrXrumavp+uadFq+h6nb3tncJugurWZZI5F9VZSQR9K/gg1rXNZ8R6nPrXiDV7q+vLqUy3N3e3DSyyuerM7ElifUnNf0y/wDBmDrHxW1b/gn149i8a65fXfhyz+I7Q+EoLu5Mkdqv2SI3CRA/cXeVO3pkkgcmuGnOrKC9q7yS1fdnTWpRbvHQ/XPW7qS10ye4Qcqhwa8u+MPjSz8GeE7TxhBaeZPPAJYpoznfGMEn34Ociu8+Kl4LDwXfnzkTfAVDOwUD8TxXCfE79nrXfjp4E8OLoPxD/wCEcfT9NMKvFp6XaOrKoDAMwAOF689a6k1GKbOWhRUptM808Tft2fDe3sNt5a6xteHzVitLNZJZF/2V3AfXJAFeBfFf/gpt4Ts9DurLwhpMNvqcytFpFtq9/D5lzOwwiFIC+Cefl3E5xxX0f4Z/4Jm/CnSfD0+hfEvxPqPiv7Qxlu57vZAqnOSVRAAoJOTyTnua/KP46fs6/BT4V/tf2K/Av40XXjjw8uryXUN99ijjsNOnik2m1imAEdyUbdvdSR93pnlVKijDmWp+j8JcOZJmlaUak3GUYuVt1K32Tyyz/wCC3n7d+j+I2ufEtz4XureCVkmjOhyRuSDj73m4/Ja9O8Mf8HEfxE0+OP8At/4AaBeSJy9zb6rLCx/Bs18K/tN6SLP9oLxPaXGn3Fhape77OO4iwZImzh8jGQeufeuJintDICsOPU5PPFfmb4gxUakouTdu5/Z9Hwn8N84wFKvLLKUFNJq107NLs/8Ahz9gvhT/AMHOOgWGLbxH+y0spC4T7F4iAIJPfchzn8Olfqv+zx8c/Cf7QvwR0H49eFkNrpmv6d9qFtLJua1K5DI5wMkEHnAr+TzRtOe1kW5VdqlcAHqa/Zz/AIIsftrX17+wV8RPhLevdaprngfTbq80yxRclraaFxsH+6Rn8e2a9jJOIKmJruliGldOy9D8l8afAzh3h3g+nm2RYZwqRqwU/ebXJP3b2faTV/K76Hcf8Fof21fC174K0X4TfDjxxFex394ZNUntJAUTZuUKdh5HJPOOVHoa+PPh7ZeEvi94r8O3PxU+KOj6FBqdl9mmu/s5MWnpGDtaZVIYs3BPPUmvjn4t/Hm713xWlzoM91sSI/a4NTIl2ysdzBCDwoYsB04A4qsvxavZAhh0qCIkfMAzYJ9gCMV87nWexqYuUZ7dj+gvDfwpocM8LRy7B1+WTTcqmjlzT663Tt0ufZuu+EfBfhj4deKfihoXxK0jUrXQdfOm7CSQyFjsnT0Jwa830+X4ZeH/AATrnjXwv8RHttY8QSQWeo6UsAaCW1kHmFlJAIbd36V822niDUdbv5NMjlmjSeYOYVmZkZv7xXOCarfFHxJZ2PjC38PrJue202xiljgdhiU7uoHU4K9q5MDmvtHelD3YtL7z7HNOEMFhvZ08bjnNzbd7cvuxjqnrrd6v1P6Qf2DPGdx8U/2TvCvjK4uv9KTw9DZNdynfv8l2VW+XHpXT+Mvhl4W+I1oq+IreV2t5f3U0QaJwe5FZX/BMP4dD4UfsKfD3TdbTZdv4fjubmKSPBQSszKCCTzg16pr2u6Zc3mLa1805r9nwDlUpJW+Z/lTxFhsPHiPGfV3+79rPl9OZniPif9mqwumh/wCEe1q5EUQ453vH/wAC4q7oHwt8a6Bb/ZrT4n6gBLL+9hlhV/8A0Ikc9O31r2TVfDOja7bW95pl99iniPzjlleqMvg+9jtZrq5eK5TK+T9nGW3L96tnJPyPFnBs8O8Q/DDxb4rsC+t+Nr/TY5LkBFt2KI2MjcIZCTnGOY2IPXFMT4UXt3BDqV1qkOv6dkJdSG3WeEsG3eXKZF82I+rFsVoftVftw/s9fs16RY2Pxl1aGS5lUxWmiiFbieN8DEhRTuiGCPm/Sur+EXxL8BfHPwpa/Ef4V/FK21yXUJPLddBdZRAQDu82MbSAOByCfm71hDH4CeKlhlWj7Rbxvd/cdiw2K5VJ02k+vQ4rxL4l8KeGvEMK6dYM008tu0VgWLQ/Kpb92wOGwVBB6HG3HSvbPClx4f1fTrLXdHkRorqASjY+cZHQ8V5N+0J4IsrKGTxB4+1++NpY2FvLM+lTuiB3kKqu0AhSWXJdkIGQSRiua+HfjjV/BK2kthrH2vTY7hngjBwGjY/MGXqGHTsCVJxXoxozmrxPRpZRiMVFuD1R9Pu8EjkowHFVp+1Z2m3cUlw0x+7KcofY1o1xSi4uzPnndOzKlxFuAG79Kgj71an7VToW5ytXI6jqfYPU1Cy45HSrGQSdqbUlR1oB8l3F/OIMC42Y67Pl/lXVeK7PU5PD+k6BpzW4h0vRo7q+8+cKIzIS5HO3k/3evWqPi34dauLiSXQYPPifof8AJrnP2kviJF8G/g7P8Rta8O6pqsOgwiaewt8K19M5WJctzhFG3OMkYJ9K/inD+HvENXEVsqqUHzSSimvhtf8Amta3+R+vVM4oQnGspX/r8D5z/wCCnXxh+HPh34L2ujeO/GknhxNcaHS0vbKZV891B2SGSdxHCFDZLnCgDkjNfFPwy+HX7N3w/wDHug/tF2/xttr2S5SPSTeT3m67vb2QukYTyGcMXOV5QKSQN2TirniWXwl/wVR/aik8C/tC3c+unRbZZo/Dfh+d4NM8MW6sfLmuHU4aViSrKSXk3EfJ1r2KbwF8Qfgf8IbrxSYPDHhnQ/DGpLbeCvhhpenefbNGtwD9vliDEkGWRPLklLN5rkAYQkf0DwLwy/DOjSxk37WsqilJrolpZaXtovxMKma0+K8LicorS5YTiklrq7ve+9r7H0J4Y/ae1nwl8Fp7+PSpLGa+iS203w/4siAvC7lj9pKMoaJSEYBSQSOSOlQWPiyL4uabA1xpct+15CsN/FDGrJBJk4j2r0OOeOlfKf8AwTY+DPxu/ad+PPxB+GviaDU9a1O88Xp4m8S+O/ENyzz6PbxxBGtVic4aU+YNqdACuRgDH6pS6P8Asz/swR21hotteadqNzp62D317p4YavNCpYzxeW7ZJGQchQW6Gv6xw/HHDeLyqnjMPH2lWq3dLo1bdvv89j+Xcb4b8TZTxRWwOKmoYeko2dklJPZq19fuPhP9on4U3vwN8K32tXus35sWJxEfO8+xTaZNvmLhiBjGBz83Wug/4In6f/w2F+zT8ZfDPxt+Puq6vrbapeQ6Yj2P2RNNt7mzkjFlJHNCPOOfmbeXxgHNeSf8Fpf+Cynwa+GOveH/ANn/AOEOnxeO/FUEDSeI7G21A28GkzvjbDK4U5mKH7qfdxyecVs/CTw1+0B8Cv8Agh/8cf2/vEuu6/4Z8feLdFOrWdnr15JHNZObiK1E/YySzoWYbgMZWvzPjrOaXE1KjRqNTab5o2uratXvo7M/QeC+FqnCyxVelGSU+VKXN1veSWt9mr77I/n+8R6UdC8Q3+hlifsd7LBlup2OV/pX9DP/AAaGfttfs2fBb9gv4jeAPjh8avDfhO40v4ji6ij13Vo7dpYbi0iAkVXxld0TqSMgEc4yM/zvX17d6leS6hfztLPPIXlkc8sxOSTSQXV1bf8AHtcyR/MG+RyOR0PHcZP518rFpbn1ElzI/u7bxn8PfjD8MrXx74L8Rafr3hbWNPF1BqdnOJLa5tj/ABhuhXg857Guu8LW+nWnhqwttHEX2aOzjW38hgUK7RjBHBHvX5lf8EEr/wAT/Hr/AII1fAH7Rq6pDZ6F4g0TVftco+ywQ2etXEcLyKx+f9yIxtOR9MV+mfhCLS7fwrp1vot1DPaR2UaW81vGEjdQoAZVHABx0HStqtlTRhRVqjM7x74G0z4meGb3wXr11dRWd8piu/sk3lu8eRldw5AIGDjqCa4r4nfsU/s3/Ff4e2Hwy8RfDHTI9K0lt2jx2dsImsG45iK428jJ6g967b4mfEnwB8HfBmpfEv4n+MNO0DQdItWudT1bVboQwW0ajlmc8dcADqc8ZPFfJDf8FGNb/ar8Do/7HOnXTaFqq3Yt/HWuhYIzEhcecqEfu0LqQpb5iuDj0+a4q4owHCOSyzHGczgmkoxV5Sk9kl+raSPpcpwOZ46svqvupby2S9Wfnx/wWJ/ZK/Yx8a/H1fDXwl8feINc+IQhTTn8N+E7aO+mfym2FHwAkbKzHC4yOntXxh+0d+yd8N/2XPAvh3wtfeKtRvfifIxk8Y6FHNFJbaGjBnS3ldf+W4UxKyg8Nur9HbxPh1/wT6utU+JWj+J7KTx28MsN94uu0/d2UcikOLZcE78HG78a/Lv4s/HPWPj54ouvB3grQ/svhyy1K61See5m3XOp3crky3dxKxy7MdoVf4QcCvAxOMw2N4fp4upRjCrUjfljZ2b6XW70+XQ/sPwurZq82w2Ep1p1MNSSUpyt70tdIpxvGHzb01tocrY2zahEztOFMY+UV9t/8EG/jFJ8Mf2/tK8G3NkbnS/FWl3dnf2/UNiMspI745r57/Yy+C/hr43ftYeAPg94inB0/XvElvb6gC3LRBtzJx2O3b+Nfvv8If8Agkt+w98BfihYfEL4efCmLTdZ0yGRrW8t2OUVuM5zXmcKZLisxxMMbGolGnK0k73a0b2+4/QPHvxJ4T4SyGvwzmtKcq2MoScXFJxTfMoOTclZqSTVr7I+T/jH/wAEJv2O/FXjHXvFOi+Hr+3uNX1G4vo7d9WljhtS7lxDEqHAXLN1yRxz1r4w/b+/4JLeNf2bLDRfGPwm0S9ayk0ovrujXU3mzWsoYkMpIyVII/Kv6AR4S0IvsFgCvrmm+JfB/hXxJAlt4i0kXSJHsxJGHOPTNfo2N4eyjG0HB01zP7VtUfxHwf47cc8MY6lVliZVqcfijNv3tLW32Wlj+aP9lf8AZF+OPxha+8WeF/hhrWrS6XC0kunWumyPLyCEyAOMlT+R9K+k/wDgmf8A8ECP2kvir+0LF8Y/2x/Ct14X8OW199sl0W+AWa62vmOIAHOzAGT+Hav2k03RfhJ8G/Ew03wL4BSLUrwI99Lbaew8mA55dwp98D616XoepQaxpsWp2wYRzLlAy4OPpWOE4ewuXUlJwv2Z9BxT4+cX8V13GD9irNJp+8k9+ul9vIx9L0G20QSaLpNt5dtbWFvDBADkRoC2FHtgVaXTLUANPYRE9zsrVYQQu0rlVLgAknrj/wDXXiv7R37Ynw4+FekXOg6P4vsV16YeTaGZQ8cMx4AYZGTn8up9K9f2zjBy2ildvsfjdKjKdW2rbf8AwS98ePi54P8AAnhm+0zw3G+qa66KINKsny65PJPBA47V+fn7aH7bn7VHg/T4tQ+Dvxrl8F6Vpu22vdL1OyR7iO4wwlALDIXI4HTg4r6B1SP4kL4aXV/i78Cn1Zb+EMvinwHelpYVwWyQOScdeO2OK8S+KXwR/Zb/AGhA114I8d6ub+a3k/tLQ9fjaG6MoG5ZVMwCH5uCeh59a/MOLuIcdjqboZViHTtpdtw5n/dlpdPZW3Vnd9fucjy3BUKl6tOM791f/M+NPDPiLTf2jfiPPN+174zsYftihrfxdaaeJbh5WcAmQsQVAGTnP8OMc190/sb/AB2/4Jo/sDaLZ/CrwH8SL3xRqfjLVEsdd1gXDia1uv4A0RKm3jLNgOoHqTwK/N/xzpHw6+D/AI11U/Eu8vLax0W4/daasDRvfynpAH6bD/eGfavNvHnxW0r4m+Kx40sPCrWzz6is8tpA4EgRZQdx6ZIVevHSvy3hjNMxybMPrNekpVW0uaXNddHpzWvr0sfa5tlmGxOHVP4YrotF9x+437UXxJ07U9RstL05bq21Cxhjkmu9Ybz3mjG8bSEG2e1K71kxuKCQOMbTnmvAFlfS2c0Gm201xLNJL5VvqVuFlhjJIEZOMNtxtDr8rKFOSSTVT4o6Te3PgnS/FFnaLf6BNo9l9kvLUlhYkrwzxA7kxx86naejLg17L+zv8Lz4c+Gmk281uZ7hYnYXEj708pjuRUJ5ACnpX9nQlSjQSifntLGUMuk210Z6F4Gm1P8A4R2yGrJi6SBUl+bJyOM+nbtXU2xLRBz3FZtnpvkIFVcY960bPcIcNXl1mnLQ+ExUuavKXcdKgbr3qncIF5A71ef7tVJ493Ge9c7VjjlEr1E/3TUyfeFRUjPqQsueRTalIINJVcwHywkPi6+lvdJ1/wAVApdTP9ntrK6OUj7MJCqnOMk8YGO9Zc2i+N/EZj0n+0iumWbeXcXV4mUaPj5UQY3MefnPTGeeBXd6Ro+n67qs2sG4hmSKLyoZol4OMAhT3B7Hjoa2dW0HTrTRJryTUmYRMpS0EQw3OAoJ4J574rhSk9kexL3j5c8H/CL4R/CP4m6zbQeDltv7buftl9qBi2M9wcqZWZB8wI6Z6cnuaZ8fPAXww+MGqad4S8JXcn9qQ3+nx2WppjzDLDdxXMcZQDDrmNM8FRtBPv7z4h8K2fxy8I2eg+CJNQ0rWre5kl1f7faIlpPErKvlNvXdOyg7wsZweQeDxF8Kf2Nb7wn4t1nxVaXxs4NQi26batHua0yPmYfewwy2PmwCc+1cuKwtatHlkgoYiWExCrQ3OX8HeNfBn7PXwvvNek0Gy065udYlWaC1mLT6vPI5eSfe+WdmflndvrgACvN/FPx8034qXE0Hi/WrvT7ueMRKnhzVWimMSk4jVoQZBtJPVseh7V9X3n7OXhtNJFj/AGVHKscYVTdqZTx/vLWT4Z/Zm0DStXXVNP8ADNlBOmQLi2gEZ/lWsKONpRUea0fKyNa2cQqt89Pml3f+TTPlL9mj/giP+wzefF21/aAb4EmfVLm8+3SS+IdQmuIJrjJbzTbOxVzuJOZAQSc4r1L/AIODfhddN/wRm+L2m+GHluLq4i0tQs8wxj+0YBjJ4Gcjk8DgnAya+yvAvge20mGPMAXaAMAdMdq8V/4LT/DjUPid/wAEk/2gPBWh20cly/w3vruJJG2gfZgLgnPqFiP1qvYck79zGrmOKx0oqq9I7Loj+Z3Tf+CDv7Qvh/TY9V/aF/a5/Zs+EJYBnsvHvxssBdxqehMNj9pbJHIXr2wDxVmT/gnN/wAEu/h7u/4X5/wXQ8H3MsPyyaf8LvhXrXiFpW7qk7+RFjI+8Tjp16V8J0UpVaX2YW+bOg/qf/4ITW/7MPiD/gmvafBj9jr4w+JPHngvw98TtUtLvWfHWgjSijvb295NG0EUkm2HM2VBc7mkJPpX6C/Fr9pb4N/sa/s+2HxP/aE8c2uk6XBFb2qTpBtNzcSD5IooxjJPPHAABJr8Yv8Ag0K+Is8X7EXxl8E29k9zc6V8SrC8sYEcYZ73T2hy4xwi/Zck89RwOp+5v+Cpn7KPgz4m6V4B/aF/aR8ZSX3hPwXpLwzeFXmcWd5qEku9JpRHx5alUXbyWwq5GM10ckalOKNMrp0MTmio124xfVK/9XOa/bq+EPxE/wCCi2pz6Z46+MU2h/DBrFr7Q9L0+JGF4u0Bflw3mzjO7cW2DqKsfBq68Ifs7/APQf2dfB+gvBpWg6GkBtrYYeSQLnzZ5G+82feuO8O/tleJvEnhnVPhd4f+HGoi48PpHYWOp6hboLZUHSNBGeFVfl2jtXlum/HjxrJ4r8QWWuaxZzWRsoc/YlGzpX4x408S0Mu4WqUKCvVfupW2bs0/wP1XhPDYvH1qGBnL90p6K23fXqeK/t4fDf4ufGzxVeWl9eQ6dppuMkTZ/efr7V8g+PPhd4t8G3UHw68LaIbiW7/e32okqv0yw6//AFq+z/20viz4li8MRag0cECXAZIb29iH7xFIrw/wX8Wf2Z7OBbnxxf8AiPxj4kOBb29lZC3sYv8AZc7vnXPX2FfI+E+HzLOeCo1sVNJqTTbf/BP6myTMq2V4ahThFuEGtIrXrr6Fr9jfQ7X9nf40+EvjnJrkl/qug3E09romk2ZuXa4MbIh+Vc8M4PTqK/YL4e/tmftveMtIs/EH/ClF0+yu4t8954nuE05YVGd3yu2T9fpxzX59/C39tL4seF/DkT/Cj4PeGvDtq1qoiuVswZU5OW3EEknv+Fcp8UPi5+0H8YvMTx38UdUuElfcY1ugoH0AXgcV+k4XMsNwxRdNSum76LS9knq7i4z4Pn4lZnRxOY0qNP2ceRTk3Uly3bVoxslZv+Y/bn9nv49aB468JXMvi74s+FdT1WxlxqEWhTFltvRSTyx9wK7rWfit4E0DTjqVxqG6IReYGSMnI+tfkt/wSl8E3vg2z8TBbky+e8GfPvN7/wAVff8Apap4k8H3Om6qc2yWEjzg99v3a/QcsrUszwUMT0lr/Wh/GXiHwvhOFOK8Tl+FqqpGDWvLy6vpa7SS6HY/HL4u6x4Oi03W/hp4VtdYvtYhMMULLsZ3basBaT+CMMzE8MegAr1Hwrb3Nn4bsbO9vTczw2saXFyessgUB2/FsmvL/D3iHwp4O+Fi/EPxfqNna2WiaF59zdXrBUijQbmbJ6HkAe5x3r4d/aL/AOCuXjz4n+E9cX4A6BJa6Lp6pue4fy7ieHOJJC2MquBn8cV9fkHCeacV4n6rgYr3WlKUnZK+1/0PxriLi/JuEKHt8dJ3k7KKV22fT/7Zf7Zdh4VjvPhv8OvEsSXkMhg1TUYJcNbybN3lof7+GX86/Ir9rPx1471zxhY6rJ4lWdWnKN5seT0FYuu/8FFvhR4ha9tH8X39jOdSklmvPJ86F3Zv4W+81cX+1V+0R8H7PRPCV9ofxFtJ7+88zzrIgp8m0bZenrxUeInhxnuV8JYiKp80knrGz6avc9LhHjTKMyzal8UW2tJJpvXRH1D+zl/wVA+Pv7PFi1kfEC3+h2dpG6LqMRkSGPPzIo78HtzX1P8ABj/grJ/wTT/bM8XnwB408IWWnX7rHbx6lq1hHFFc84CggZVScjaa/GwfFWfxH4Cm8NatcRwjV5/s8N5CfevF/HXgfxZ8N/Fi2urOwm3edZXtscBl4wQR3r+SeE8xzDKqsozmpLfkmuZab2v28rW7M/pbE5JgMzw3t+Xkm+sdPv7n6Ff8Fwf2OvEPwQ+P2nfFPwlpIX4c+KUMujXFigaC1dgAYgy5VTghl5yRmvj/AMC6PaaxqD5vv38RXyZs/wC0P8K9o/Zk/wCCm3xv8MfCWb9nf46eHbb4kfDe6b/SNL8QIJZdNBPNzFKx3DaT1BFUfhn8FPCvxu+KRtvgna3Mdrqt5vg0RpSJ0tgQWjUt91goJzXt5vLCZvmkamFTUqrs4tbNed9fuR5E62KweG9hW15dn3/r1P2o/Z6/4rL9mPwZrQH22bU/Ddr5+qfdfese3ymj/utjBr6R8KeE7bRPDUGlaRbiG3htliRQOBivhf8A4J5fHbWX+Fmm/Cf4neF9U0XTdBgtrHQ9T1KHd99pnS3LR5DZjjDZJGd9ff3gS8t77wHpl3aH5JbRSK/oFVpRwVNryX3I/IMwxr+tTjboVVsZ04KZ49KaIpY+MVv3ESk4Cj8qoXMAVs44NTGtzPU8tu7KNV2+/wDnVioG6n61u9CXoVrn/W/hUDjBz61bufuH6VWYZGKzMpbkUnam09/ummUEnjSabpuk+HoPFenX8drYTXCx2sNzHukldTl5JcH5hj7rdCWPA4qbxPrFv4h0+e0sLCzsmuYl2L5i7156hRnrgDOcnjiuB8Ifs5+PfHfiSPW9W8O6dp8bWYgvw3nG2fkMWVDK+GO1ScYUH614p/wVh1/xn+wB8MPC/wATfgXZxWMl/ezxa/43hsklvIp1UNFCgYEIrKJPnAydgGRWVaawtF1JLRGObZtSyfL54uonJRtpHVu7tofbvgfwPo/g7w5LfapHGTZ2rTSuyZ8tVUsx/HH6V8UfB7/g4V/Zn+Jn7ScvwY1z4QeIfCPhRLqW2i8e67MkcSyqxVPMgGXVZGGAQSRkEjHT5n/ab/4L3+N/i/8ABTwt+z/4M+Fet6Zf614etG+I/jSWVbcSuyfOkCgYETdWkLKSTgCvh2+8DaBolz/wk3iXxdNaWC3nmWr37jaSSSMYbJJB7etfLZpxP7OtBYO0kn73p2PzPiXxB+rYmlDB31SktG+Z9YpLW/T/ADP2b+OH/BWj9mK8+KcPgCz+OtjpkDyR22jWqtIr6g7MQJSQuApbIG49Oe9eleBP2tm+GviCAeNp477RJ2jSeYPl7cOQBKDzuUZ+7+tfhN4u8E6trnjJdX0O20qd57ZDZaqirJMIyoKlS3Rhz82Miu4+Kg8cXPw00zwrrHj7xHZRyIjzDSZGKy7VC+UcyAjtnGR6g1/O2a8HcWVOM/8AWXAZxVhWUryjPWm4X0pxgmlypXXK73ve99T6/J/pE5FDKVl2aZXCUZR9zkk1KMu82+ZvXrZPo0f0zWsdqIYp7SZZIpoxJE6nIZSMgj61zH7QngiP4k/s+ePfh5NHuXXfBeq6eVx18+zli9R/f9R1r8cv2Tf+CtP7Yvwb/ZiufDVrLpGpQ+HLNrPw/H4nJeQDKLF5lxkdPmxvODnGQOa9l/YR/wCC4Xxb8Q2mrfD39sSzste1m7iMmk6h4QtbeEWsbAqUmAby2xuDBkYkAEHJIr+lKOfZfXUE52bV+unc8fC+KPDOIklNuFt72aT+Tf3n80vwp/Z6+LPxw+JMnwl+FvhuLUtejM2bObVLa0BEQYyHfcSRpwFY/e7VyWr6Vf6Fq11oeqQiO6s7h4LmMSKwWRGKsNykg4IPIJB7V9rfEj/gnf8ACTUvDuqaJ8N9S8Xan8RrbVWk1i4u5oE0eNPtBWRIY/JWViQcq0skQPpX6ifsD/sZ/wDBMT9kT4MaZ4J+It18OPEni+/iX+39e15YLlr2Y/M0cPmblES5wApOO7E818B4geJ+T8CZdDEKhUxVScmo06MXJ2WspN7RSVt9W3p1t+rcMY/IeJ/aOjjaUIwtdzko77WTav6niv8AwZ2eIZreH9oXwtBdhJ72Lwy9kHbiN/Nv43kA9Qsgr9e/2sdD1j9pH9nG7+AOg3q6X4duoLzTdY1WWNTLJPGiukduG6ruBy/TpjvXzV+zR+x3+zD+yd8f/EHxl/Ze8IxeFx8QNJttK1LS9Pbbpkax3McovIogf3bAKwG07W8wnnNfTvxa1DwzqHjiwtPEOu/8I/8AD/ToEhgVZvLF0wbfIsZJHBHAbJ3MSO1fQ+HniBkPiNkKzHLVKPK+WcJq0oSsnZ2bXXo+h62ZZTiuH88oKrZqSUk1tJO+qPn7xJ8PfGq/CqW9TSIdNOhJ80QlH2d5B1lZs/vHPXHavmHwZaaXdz6nqH+tiu9Rb7GTMd8lvGDulZen3q+iv2gf23/B/wAZvFp+FHgyWxtvD1tIVtILVEae5Ufdd1U5r508ST6j4bvJL3wZZw6bFBbfZbePHH3dxHNfk3ijUxvG88RleUYKrzxcfelFqLd3opPTTl38z9S8PKUcHjYVMVWSV5b+fZHkn7WdjpXi/wANW1qbViI1MpGc9q+ePhx8G/HxvP7X0XSc6b9s/fGaUbAnPl7ufmY/pX1j8ZNXtdH8M2niLV7OGa8uyn/LZUTyejPH/e46dqj/AGZbr4A/FiW00bxhfaj4d1qMSvYxjUke3ndc7QVf5S2AOGr0+BfDXxay3InhqOXOUXd2U4aM/X63iVwlkdN08RX96L7P87Gl4h8L6d4D0mw8EW2sfatXkt4BDBb/ACRfMvyq1avw1/Yo/aU+LPxTPgLxXe2vh/w9YpLLf3MTohlXACKqjqN2Mmuu8N/A/X/ih8Q4tV0j4o/2/qGn2guP9DsYV2eWfusmQdwx2rzj4XftV/Frw1/wVJfwB8ctOvrW4vbCaxMbRSJ/o+VkUhSMDPrX3/B3gz4jZ7PGYjP4ewp4aLqcjac5xW9kmtEtb6+h8XxR9IrL8t9jQyKaq1Kvu87VlTfR+8tbaa6H6C/sT/sPN+z94Y1u303XZNYS4lW6uLue4XPyqcRIOwGT1NekSeKrfWvhr4g1zwVrtjJFZWk0dw9ldxz+VIFIKPsY7Wro/hx8QtC1O1HgDw5dRuY7LdcZlCjyyCNxPbOePpXivgH9nu2/Zs8GeP8Awr4L1eSc+I76a4isi26KIncQF477gD9BX6zkWSqnhI4aC0jsj8Kz/NM1zzHTzLGNzqVNW+58XftrfHP9oT9obULP4Ra1c3OleH9JdANHtJz5d1Ip/wBbNgYbjOB2rR8J/Ce0j+Eeu+GxZYm1bQrmD97IUTeyFVXr6103h3wjrut67/avi63tUv4D5Vwlv9w9+K7238N6WLi1tQgMU1+gkVx/DH+8r+nsqp4DJ8mw9DD01F8sXK2qvZNn+efG2Z5jjOJK8cRUcuSo7eXK9D8qfhX8APCfwtmvB408H6hrmr2j7LDQ7SAkM2SFaQkn5RkGqvx/8F3PiP4fzeIvGfg64k1K3mV4rZrPCQxpgiGP6DGRjqDX1v8AtD/CLx94Z8feKl0bRI3h1bWorxJ0vgrtEDny92fu/NnArkfF1j8SNY0iIX3hvShIN9v/AKXcO/y7f9f5eMcq2BX6D9SwWcZe6WjjUjbvujbC8S4n+0I4ytO84Su23ba2i7J+n3ny38IvhZ4w+IOow6Z4YsJbMyRoV0nWICJSGTzcrnr8p45q94r0HW7nS7/RY9P+3vo84WQNJ8yN3RfpX11afsqftUeP/hFpHxs8CaBb6lNokI0PXYvCsDf2j5NqN9vc+WQXkfYfLO0c7RXnNn+zB8V/GPiH/hLrz4SaxaaPPeP9j1Gayltn87dhvMLJ82D1r/IrxBymWQ8V4vCKm06VapHbRpS91rXt/wAOf6rcG5xDOOE8HioyUvaUqcm79XHXofOehweF9b1+00RtHv8ATW3eXL5x+6+OSenftX6A/sAfBL4Z/D+yg+I3jeyuNW8TajJPB4c/seVZFsraXEcdzNbEq+WBcqTjCgHvx0Hwl/Zf+Evi3wvp/g/4leG7K48U63di3sdZWRYbe3gRTuaaV/4j8iqcjkmuv/aQ0j4nfCuPWvhJ8M/hLdW0lzptrbah4g1zw0JYtStIY9v2e0vbR28oDAHzAPxnAFb8LYzKMBThmGOqckZPli3d6vz/AMzy8zw2PzvMFhaDUb7t7JL+tEfWP7JX7K3xn1eyvNF+NXijRV8O6vcyStb6RpjxzXkGBFGjmRmETeUig7QT1OecV9h+FPCekeBvCVh4P8PxuljplstvZpI5ZljUYG5j94+9fCn/AATE+LvxA8LeEItA8SJCnh+31sx3kmp6+91dLJ5CMpi6hY1MmGUkkd/b75tdQjvLVL63mVopBlHUg5r9hwWaYDMYtYStGoovWzT/ACPzPiXJq+S5hKhVfMuk1s16iv8AdNU7tPU9qvMcnrmqM/Q16VPc+bvaTKD96rS9fxq7cptfcOhqs6HNdkdUNPmRUlGF61Xq+RyDVa7/AIfxp2MX8TKzjn60lOk7U2pAQIqIIYdwQDAUnNfKX/BavwvpWvfsD6m+r6G99BY+I9PmdU58sGXZuI7j58Ee/fpX1Wsua8s/bY0rwn44/Zl8U/DHxfc3ATxHZrZ2cdmAZjPvV1dc8AJt3Enpj3Fc/EGPweU5JiMZi5qFKnCUpSbSSSXnb5d3ZHBj8qxefYOpluFV6lZckfV7fLu+h/O14vg8Jaj4z+x6p8QLaxtdgMOn3UxjEaFcAY5+XgYHbFdN4h+FS614f06KPwxpviS0QF4yJPMFu3HPyNyCOoPB/Cv0M1P/AIJ6/sf6n4fXQvFXwC0e+JQCW8uoCLmQ/wB4zKRJnuDu9K/Oj9tz9lTxl+wX8QrTxn4F1K7vvh5qt0IbO/Zi02j3OBi2mwDlTn5JT16Ng8n+RuE/F/h7i/MJ4HCRlTqu7ip2XPbpFpv3u0XbyPkOL/o78ccKZPSzGFZVPZpOXJtF212tLT+a/wAjqPCfg+8g8B6kfFF7NYSyyNDFfWlsrvZb8BSqnGQu3GOMAnHNHwPW+g1Cf4aReItQ1m3tyZW1S+BbMhxwFO7YoGSRnJIzVn4P/GXxn4jax0/VNUbULSRkWaC7QSl13dM4zj8a958N+C/DOjMJ4tFt4riSL/W261+q4LEQzGKlG6t3P5gxUsYoVqFaKak9dtGuq0v+J45N438a6Z4g1Lwh488IaLp/hueURWLNMry3jbxskQq3QkZOQMKDz2Oymu/Cv9nLXrG4120mnvNdsXSzt9Og3ZXco3lm9DjgYNdNqv7Nvgi+1uPWY7ydjCSYUnBcRgkkgZb1qf4q+G/ElxLbWvh7W9Pg8sBYI5okLowUhmjyp65BOPSqlSnGMpvfoebUng51opwlCFrSUW0m9t/efm++2hyOr/DPXfGWqLqdv42vLuziQ3aLMxXaNq5Lk8Hb7njPvWN4++G2qeJItJ1DTvhmuuzwSEWFxb3bOOCCQVQ4fkjgHIxzivRbP4O+Lo/hX/wgl1oep66NUnSKTTLO6ZZZi7cuu1WKhepBBzxkAdfs79kP9i7wX+zB8OrK81HRZF1wsZ5Uvbn7Q1qzdVD4Ck+4A+nFa4HLp5hPlTaufceF/h1xL4jZtyYGqoU6Ls6koyUFB6NJwd3N30i9+5w37I3wG/bE1UeH9V+J+rto2iWdgJdZ+33zpeO3LLGsX/LNSm05684rv/8Ago94q8VfEXQPC2g6f4Z/tLTDfvFpWgWO5f7ZvFX5XkOflijAZ8fxGvQfEHxR01rO8sbgmGXpnNeSfBP47+IvHn7XHgf4fvpER0DRNRFiLm4/4+HuJY3G1Bj5YkT1O4t7AV9tw/w1lXDs69TBxs6zi5Wsk3FWTsutt31Z/oFgODqfCeQUqHtZ11RV3Oq+Z+nZRX2V0Wl2YvwV+BfhzQN3hvwd4UH/AAlE9l9tvr++VStupBeRzk/dBzXPfsl/CZPjT8Z7m08d3Qm8P3b6jqF9FAmC0ccThdnI2nKgVJ8H/DfjzSb34yfEXVfEeoy2mg6nd6Rp0XnHZcMJ2Td/tbdv3elU9X8XX3w+h0/SPCmpGDy9Citrya3O1pA2JH5/hJZuldWY4mpKMZPZO9r7n9H+FmRutk+PnhYxVWvFU4SaT5I2bm9dm+aNvQwvif8Aso/DXx+mq6xo+t3E+naFcGCGCWQpJCM4IHPIG3GP5V8ueDv2WNe1bxpr/hXwrC0Fnb3iJaXFwNwuRnkrjGcZ/GvtPxFd3Pw//Zft/HEl3l/F2vNCjzSBFmVC2Tk9ASo7Un7H2u+Gx8QrjwbrGgyT6fFZNLLcLHnzm7jIHfqPoaeI8bMZ4ZYT2yacpWtF6tr+Z2s1FdWefxN4c5Ln8sQpRk4UJbxtfmjZSXbe6/A4L9iv/gkH+1V4V13T/wBovwH+0XbaGyzyLcaDLbebGrRttjLOxww2849SOuK+7PFH/BPXS/2hfEOg/Eb43aT4eXxb4bl223iTR75VeZfL5UDnzAxIPzHPy9eeH+L/APgpH8FP2YfA9h4c8WfCTUda0bU/OU6hpjxmM4y211YAg/jjpTta/wCCqX7GtjpGk3LfDHVDJqIEllYwiESMewPz171Hx+wPEGGjiauLp06so/ZsrKS1Sejatvvc/AcZ4Q8TLGqvgcuqTp3fK9+a2nnb06DLLwF4i/Zz1648Owi1vLHCpJfW8m+R1z8u7ryK1/FWtQ3GkS6tCQ+U5x9BWRqn/BWv4RXF5pDfDr4b2N7YajHv1iWeYeZFj5VjG1cb8epNdH+1HrHhrV5baTTNf0/QbG58N28k1t9n3yLcXkgFux8sFnZpD5YXuckd6jgPjnKczq1sPhsQ8RKjL33a1nJuy2Wl9NOx9NnX9s8OYTDQzjL/AKupL3Xpry2TuunQ+cr3wna2Xie7utMBNtMVdAz5IJzkH9KwvElhbXOvwafrWqPZWQjd2uQ21UYgBcntya7W/wD2fP2ivDfiu08R+OPC89rbRuLSCwtisxCMPmnkdCfv4X5cfLtPJzxl+PvCen6zHd+H79OuY5UI7V/RPB2azxOBSnO7i5K+7Svo/kmf58+OmV0cBxrPFUIKMKihJ2Vl2v8AO12fOf8AwUU0i2/Z68PeH/G2kfHezubq9gMf9l206uwTg5fqB96vk7wR+0t4L+Lmqf8ACIj4s6klyo33JBhjjTBxsRlUk5xXtf7bq/svHVbf4ZfE19Uvp4Z9moDRnWHyE3Ajnox65x7V1v7GHhH9iH9mi9u7LwJ4Z0bU7rV0ju4m1y0M1zCuDwshyq4BPua/UMDn9LKsFG1T2016Rb1e3Raf8HU+NwWWYD6hUq1qM41ZfC1C8fVuzfy09T0n9gf4P3V6kms+GviV4jsxBcLqdw1n4icAABVJeMgqwHuP4j0r6m+LGrfCjxVbudG+ImnalrckirbC5MkSSyISFERdQAScDnj8q8v+BXx/uvhzr0ll8Kk8ONod6ZZksrstI5lkLbsYKk8j7vT2rf8AFnxi8I2lsYPE3hiw+2yXjfYmlgJKNnOMZ6c+tf5ufSjq43KfFCpi8PGc5ZlShNQjaXK6fuNxVt5WTlv/AJ/3X9G3H1c54GWW01Nzwc3BuUeVy5/fVr7xV3Z9jkrq18M3+jXY+KPhS90rxFbExzCB1l3R53LkZeM98YANej6h4B8LeFfDtr4h+Fv/AAlA0aHTBFqUdpfGdI4pgo+0eU5VmwwxuQ5Uds1494G/aHtLz476h4b+KtgG8PTo2l6hDcxAT2quD++XIypQ7WHqOK9D8H+NLnwB4iuPh14sA1DSEv2tEu1P7po5UIwpxyrbgR6dOtfB8M+HVLGcPSq4vE1XjayV05XULXtFprlej7H9Z5nwVWw2Gi6cOWtyRqXT92cZbqOl+aOl0+6ZL4T+HV/4G1GC/u9f+127wS3UepRzzMlysj5X5ZDlGAUAgk4z719sfs2ar9v8HzR3eqLPO0waGBn+YJjnj/PSvnvTfhdF4Isr3wfpS2baJFCp0KyWJifs4jO7cxYjfn65pugXksiwCNvKMBCgxkjgdP6V+WZfw34k+EXFVTOKWWzxtJxSlCnLvfmaiuZq2llbZ/d+W5zSw3EeTLC1ans2ndNq9n2Pspie5qOdN65/OvIP2dviF401/wASTeFtf1MXNqtq7xGaMGQOG6bvTFexOh7mv6l4D4yw3HXD8M0o0KlC8pRlCquWcZRdpJrtfrp6I/Dc6ymvkuOeHnJS6prZplKWHPUVWuIsVozwGoJIA31r7iMzyzOK4/hqC4X/AGauyQntVeWLFdCaYm7FC7/h/GoatyxbsfN+lRfZP+mn6UxcxRHBzXyh+2B431IfGXUdJutXNvpui2UbRPJL8ips3u5r6yixuwT3r5n/AG7fhXfm9g+I9tpkktle6f8A2fq3krnAw21m7jjjPNfhf0mctzHMfDaTw7fJTqQnUS6wV1e3aMmpeVrn3vhhiqWH4m1S9pKE1Tva3Pa6V3te1r/5nhXwv+Nfw/8Ai1plzqngrx1a6zbW939mumgWRZLabAYB45UVgCpBzjHNcJ+1h8JvD3xt+Cfin4U69Z+fDq+mSRQgLkpOMNFIPQq4Vs+1eBfsnfsY/GT9mD9rDxX440nxm2o+DPEkrTmOacZErqWyQTkHOAAM56k8c/behfDu88fPDb2VtvMgHnSnomc8/pX8K1+H8PlPGuEw/DGJ+suo6cqTWklNv4ZKyScWrv8Au2v1P17LeJsfmvCWKnxBhlQcOaM4u/LJct04p778q7uOjsz8qf2S/gl8YPhexsfjT4H1fSmtH8uCS8sHCS8n5gwGOQQa+m7W+AETAceXX6TwfAHwzd2KwLDIQIUTkcZrEuv2EPhfrHnXd34TtDNN/wAt/JCP/wB9KM1/pBhOCsbhndTTb1a21ettz/OvPeAcVi8RPEYeS95t20Vj4EjkWVfMVv0r1rw1/wAExfhD8d9OsvGfx5u9avbma2JsdMsNSNvFZBsYcED5mOByfTtXs3i79ir4b/CG/s/E4MjqXZYLCaVpY5GG3724e/616N8OrrU7+2N3qFpHBEDi1jjXACCvwDxChxpxZxxR4HyGo6HseWriq8fsRkrxitN+V3820vsu/wC5+CHg3hKeWVs54ipRqKTcaUHflstJTa6ttWXazfVW8r/ZX/YE+Gf7I+ua1r3g3xdr+qPfv/oqavdeYNPhx/q488ZOD83WvUPiprVhbeF7triPytsBC4PU10l9qNiwKkjAGXJ/lXin7SfxC0q38PSiG4yATvwfev6Yy3KMPk+XU8LTk5KCS5paybS3bt1/DY/pPIsnyvJqP1bAUVThe9oqy9e/3nyn8WPjCPBXjNr6+13yYZjtjG7kkj25rT/Zh+KXgbR/2kPCXjDV9Z+zwnWo7yaYRn+EELzjv2rxmL4HWH7VHjm/1zx94w1Lw74N8MOU1O8tP+Pi/uT8yWtupOGYgDJ7ZyeK6j4A/Ajwlo37Sei+G/Aser2OnXp+1y2Or3b3n2eGF8+a0zqArP0wMgGtcPVg1NzdrK63112OriTMMC4f2ZRTnNr3+kY32V+r+4/QPwp8PYLP4OxW1zbMX1G7m1DVVkXBmnncyOWA4yST0xzXmPxF/Zg0HxHC03hm3a3md8CBQzA/TnPavo3wxrcEs6WFwVkttu1ZYwGXd2B54z7jtWxP4e0uLUft62wLgfKT0H4VdJUqqamc2Q8YZzw019UqWt06P1XU/Nz/AILw+O4vg34B+C37PuhwCQCaRrwRbdhkVV4YZ+VTnrjtXPfsh/FDSZPHumaHba1p1jbXfhuL7Wz6n8st4h/1eV9uMfhXA/8ABZPRPi1+0r+2hbeGPBnw8OqwaDohkt9Tm1IW9rbO2d25nIBbjFeD/CnX/EHwt8dQ6Z4rTR4ruL5ksbA+ayMmfm3f171+B+LGBnj8TPERjzKMXG3T0sfu/htjMJmORzympVUq7cpv+Z895Nt9bH6kWnw5+OnxMvb/AErTdItJPD86bba1mKOrMOpGeR0znNZ3iP8A4Jr6z8VLSbw1Hd2+l+KdP08/Z7VJsRbWAJ2ufutgcEDuao+Efidd6z4WsfE2na3LB59mrSRpKQEZj2A9yKoeAf2m5/H3jTV/DfhzxpqE99oIT7fcI8hWHcDhQ+ccdPrxX80ZfxFkWCw83VwlapWpXUpxnaMY3srK3utPRdOlieIs04j4ZyjE5hQqQpwoq9lB3clZRTbbT5tu7ve5k6F+yN4W+G9omjyeFpdM1/T0WG8tlYnkD/WDnDBsk5FfRv7Pf7dv7J2v/EDR/CP7QtvrWifEHwNb/Y9DguhM2n64dhWKdQgKNMiswUyBQnmNtyTxyM3jrWfEpj/4SfU3upYLfbZ6jMu6eFuOC55ZPY+tcTafs5eHPEHiO6+Kni2wnOpyzK1tML13jO3gMqsMJ16Ada/ePALxD4cqZjicPi6vs5Tju9JOMdE5PZy1s2fzLx54lrxBynDwrU2q9OV3d3Wqs0n62sunmfQP7a/7T2g2XwA8R+OBcf6u3DafbwMfOjlaQA/Nn5vlr82P25v+Clk3hj4N6RdeG9H8TW8+vk241nQLGMPqCKCvlIZf9X83V8bvSvpvxXc/DYeHdZ0H4heKlsLFLCUhrvO1FVcfLt+9X5J/8FGPGvwn13QNB8K/BfxdKg0d38yC+1KUxcAYaFAoG4+4r+8siz/A4Th918Diaclzb3V9fI/KKnAuH4yzelXxeGnVjSS5rbJK/LzaPd7ehi6f8Tf2of2iPGen+A/B3wa8Qyz6jcR/Y7W7s3meSM87mkVWC8A5c5Nfob8Gfgd+0/4U8OWvh+w/YM1TVr6UxxajqNlA91IiZzukacR+YT221+QvhHxh4+0LS/JmuY7lS4ZJ0ZY7iI56pMvzD6V9gfsB/wDBR39sP4MKfC3wr8dPrwabdd+EvGLG8Q2+TzDcK6zJtBJZchO+K+dznjXH/UKjwsk5Wte6Vn38/Q/X4+FNPGUqcaM3TdlaM46PslLa77W/I/YL4S/s0fFddDTXvEGnS+BGNujXDaw9nZxyL90bVBY/gTnkVV8f/DDwL4NvIPid49/ah8EWMFjvkvtU1S5heG3j2ZZlVSNzYU/MTj0BNSfsuftfeHf2hvhPp/xB8ZeENHgvoWe11uG01SaOK2lQNkJ5xww2FeCa5Pxp40/Y9+Jjf8K9+LHxD8Pw6Xe2U8psL7w353R1H7uaIsJGQE/MeCFav5xw+QcQ1uKoZ7ipVMRUu789T3YxfSMbNRS2SRODqVMgnPL6cHSlTvFqMbvfdu+ra6njHjI+Gvi/4ab9pj4LawdU0ibV57HU51xuYKdqXBjHEe4YPJyO9ev/ALHMWq/EDwVqvhPxdBJLp5ED2s3G+CaN2KnI55AGRXlv7Dt78EvgV8c/Gn7LHhzx/aeKPh741ie/0Ca38Ny6chckq6qki7XAHJIOcAEgbq+xfhV4F07wkTofhK1WLTo0AJHVjg1+pYTA0qeJ9t3P2yfiFCPByyutFzqQ5fZ1Ho+WLuua+qa/G51RttTuPBEmladdeZdW0T/ZpJf42x8u6vMvhL8TrfU7u/0HW4yNTtLlhcJMcOOvI4r2S2gi06YBgMdgK+ZP2sZLj4a+Iv8AhcegobS0uG+y6lKo+R8AbM1316kWtT8doV1icS4Lq2z3zT/E13o8yatpGqS28ufvxcN19fT2r074cftS6jbzrp/j7N5AQAbq3iCyL7kd6/Pvwl+10PGUsenaNOxljlw25sbj6D3r6J8K66+q6bFqHmAuyjdgdeKilWhN6W117avd/M5s2yKniIXqx1Pt3w94s8OeLbQXfh/WIbhSMlAQHX6qeRVqaEKea+RfD/iXXtBnXVPDerSWl2hzHMvIHsVzhh9a9n8C/tMaZqMMVh8RhHYzs4RL+MYhcn+93Q8e9dfLrofmmZZBicFBzh70fuPTniU9ec1UltlbG7+dXkMc8CXMDrJHIm+N42BDDsQR2qPKOuQfqO4NVCTR83eUZcskZk9q0bEEfQ1D5Ke9ad1AJI8g1V+yj1FdUKmhKTiYdrFuYVZ1DRtJ1vTZtL1a0S4gni2TQuMhl9DVeP5OlaNq4wMnnFaYqlCvSdOolKMk009U09011T6o6KEnTnzR0a69fv6Hzl4u/wCCfOmX/iF9S8GeLksbN5N62c9sXMZznAIbkV6N8Mf2bdK+HGiiwWf7VcOcz3LR4LY6dz0r04vsp63K9CK/J8i8GeAeG8/WcYHC8tZX5byk4xct+WLdlo7LstFpc+kzTjDPM1y+ODxdTmiu6V32u0k3bzbOftvB0dnjy4FyO+K1rLSI1jWExrn3FW0kyyjHf1rxn9qb9pmDwRDP8KfAEzy+I7tFW4u4gClhG2c5P9/HGO2a/UqmIdOGp8fg8qr5ljFSoLfd9jnv2mfEugeL/GuneCNCIuF0W4aS8vIz+7dzjManvtxyc96zHurTTbBI/OSJUXG5j0rmfBmjS6bbCa8+aV+WZjkk9TVDxb4lsp5X0ufBBPBIzivmadLDRxtXEQpqM6tnNpK8nGKirvrZJJdj97yfD0cqwlPCwekb/i7v8TzP9oj4m+K/gkbn4gateR3+gmMyyyWRLeVycjYBnGFJJr4y+Lf/AAUf8AfECzntPAxm1q6v5fsmladApV5JzngZ/XIr7O8TXInubrw/NaI9qpJHmDdvB6g569P1r5R8CfD79l74Z/tmxav4v8FQm5uZN13PbAP9ktsndIisQFGSMjOSDgVpXqTm+ROx93hXSpUHUkr+hleANe0X4LeEtHm+L3iudL2+vtsdm6F0glk+/sQH74IUFs8j619Nfsg2UPxl8a6zqk/hW506wsUS10y6mmBeSBBuLhQBgbyCOea+L/2j9dufhtr0eueGNXfVGudX81pLn79/bxPuSFkBbygwIG0fKPQnOf0y/YO+Edl4N+D9j4h07RL7TW1vdfNp+p3XnS2nm/OYS/TCk4Ax0FDgfKZpUjFymt2z0ebwhq9jqTanp2rQ2d7aw+XGG/dwamg67h/C55OeetZeqfEvW9Hsbm/1GxMcdpE0krPHgYA6g55/Cu68Qi7g017MWUE6yY3JIuTx6V8b/wDBVL9p6D9m/wDZ3u7Oz8Q6Rouu66Us9PW/QSmZ2+Zk4PzYA9D1HSuTGzqYTCSqLofOUpxq1LM+bfA/xv8Ahj8Zf2nb3WdU+GC+J5keSGFJb7fDdKxJEQVCBkL83IOMdRmvpP4u/HT9lLxp4/s/2f8A9rP9gW48F+BLSKO38G/ENbdo45yw5YvGqmOPOfmJOMV8c/AD9oO/8K+BLTX9T+JskHmZ+1WHhjwtvkitxlpQf3RxIwyOgGdg4xz674h8c/Fv4dFfjn+zh+1pqPxG+EWvS/YNc8K+PdF8+HS7tyFe1mtGb5JM/LviCAgn0rxMrpYzLeBaksdFTqSk5Suuaylo10Tv3Wv6+zkuAm+LKdWnJxnayalKMk1s1JbPff7tz7C8b/sVfs6fCbwNoB/4Wfrv9g3hc6ZMuJWY5QgBhwU+brj+dYuj/wDBPDwP8HNQkt/h38bPDM8mvzm+uBq9ytpMIto2g5Ziw5JzjuK4zx/+05Prem2Pwh8Q6jpnm6NZ29xpXhqOVPs0JOP3KSkiQN90+UQQAKo+D/jr+wV4j+O+sa9+0NqXijSvFUMEdrbNNfGe0eNsYWKMJ+7Iyo6H61+U5Jwd4e8a8TZrlMcCuWNONSmoznTbk1ZqTUmrKdnHSX+F218vx04v4n4Y4SwOXY7G3+t1ZKpGco2dOD5ov4U7va6dm76uzPWtP/ZV8QXK34h8f6A6adYG5d7W680P6IOByTwK9V/Z8i+G/iSJf2dfiPpiNeT2KyWl00uGimG4lFHqRz1wdvSuFn/aA/ZV+FHiK40H4UeA31/UoLKKQ3mqzOI416ghehJwvPGK+cfFn7ZPjK11Txd468EokXii4l/4lREf7q1lLfIwBJxjrn26V+SZtwzhvCjiLCUpYeDrz1rQcnUj7Cbs05NRUZNL3Wk2mujsfh+W43C16anRkpRu1dO608zp/wBtX9nvQ/Avjq98H+ILZbyOGRTHk7TLG65Gfwr8m/2k/wBkzxHe/GO1tPgzoeo+KZ9ZnMdvoGjWLz3ED5wGCpk+XygLHAGcnAzj93P2P/EWn/tyfDyw8M/tI6vby/EzwnCyXt5YoIG1G2kHDMoJAI24OPYgcmveND+C3w2+Fl6LfwV4F07THuSxuZLe1USSsB1ZzlnPPUk17eT4PMuG8dUxeV13Wyqq26V5N9/3bTu1KDdk3rK19U7n694dcWZvwnmrr0Zc1OW8HtK17dHaz18z8Qf2ZP8Ag3L/AGhfiBYW/iz9rb4kaR8ONOaRXPh+yu4b3VWh6neVPlQMfTLkDOQDX6Wfs3f8E8P2J/2cfBU3gj4e+APCJg1K3EWq6pLo0tze3y/9NLiYu2PmGAuBxX0/qGk+ALi626pe2K3EfRbiVdw/DqKgfxL8KdI1KHSLjU7d7iX/AFSxxs/8garM89zbGRd58kb6KLt+N7v5n2OeeIHEmfSviazik7qMFypW1Xm7dLtn47/tPf8ABPbxN+wJ8Rb7xr4H8TSaz8IPFGoGQQPLKr6VcPycoSzOo5AfjHf1PB/GjwpfN4V0zTtMEGqLenyrSfRpUSERSYKSRLu3KYzy+eMcnFfu1faR8J/HPhjVvDPjDRba40+5tXjukurYAMpU5Klh/LvX5Aft9fsBv+y34j0fV/A/i6bU/DuvzTf2bLNZmOS0YHLRuPulgvR1KkjrX9FeGGNxGacNqpWqKck3t06aqy7Ho0+OHn/LSzFfvYJR5tPeS6uyXvd2973Pg/47eIvFf7H3xl8K/FbwB4kvNTu/DsyS+MtItrpJ7YTAjz3s54RskheLZuHUEc9K/Zz9m39ojwt8T/hdofxF8O3DzWGr2Uc8FwVwsisoYEfmPzr8Rvjf+y14xfUYtS8H+JtMvIry5aIi6MsaWyOSxCrGRgnuTkkjPevqf/gj/wDtP33gPxbrH7GfxE0a00qOzmku/BtpZ3rXMcduWO+AzOfmZSSQODg9+tfZ1LxkRjcOpxUIq/ofrN/wkkHjKJbSyilWCN8SXJ43kf3fauf+N/wdtvjJ8KtT+HAsBMt7aOsZ2/MJePLI992Kk8Gzz2cCra3m4EkruT5T/wABzXfaXbSy6ciz/cuoibgD+LORW0IKumj42pWlhq6lA/Djwv4t1n4W/FG702a4miu9D1aSw1WGRycSI+wn8xX3n8AvjvcXFtDA8glDRblXfjd0/LrXK/8ABV3/AIJow/E3VW+P3wm1F9B1yHbuvLKIFX2qFCTJ0kU/dB4xnvjn4K+Hv7aHxH/ZW8VQ/D/9ofwVe6Je28hWK+CkWlz0+aN9p46fnzivK5J4WrqfptGths2y9OLVz9lvCnj+21W6SFgIy/VT2roo9dsL/U30S0uI5nRfnUHORX5yfA39t/4h/tT6rLoXwF8MySWNnKkeseJL4iKxts4yodgDKw44QHrX258J7rw38MPBsOk2V/Pqd6SWvNRuDiS4c9WPXA9Bk4Heux4iVRaM+YzDL4U6eqPafAfxr8bfCacW9pEt7pW7Nxps+Qo7lo27N7dK9x8BfHz4c/ElFTRNRe2usc6ffx7Xz/sk/er5O0fXoNeuorjWJFSCb/VxGUZqn400GCYhtDuiDAfMSRWwV+laYfEyUvePiMyyChXu4qz+8+5pm+Q5Heoq+Xf2cv2rte0DUbfwD8TLiS6s5phHa6lPL80OeitkcjOB1719TpNaSIHRnIYZBCdRXsU5JwTWx+e5jgcRl1ZQqrfVea7nMeZ7VLBdFDtbp2ql5ntT4ZgGwe9eq0mefGTjsaYlEvO7r2qWORSPvD2rOjlHPT86nim2gAr365rOVPQipUuL4t8SReEvCWpeKJWAWytHlBPTIHFfBPgC9n8V+KL7xnrMpmuNQvWllLdmJyR+Zr7U+PtwsPwR8R8Zzpr9/avhb4aXcttpQeF/m89sc/SvFzBtQPuODPcc59XZfme3aReCdkDdMDP5Uni3wX4R8RwLdsgju4xmJ1fGK5/w7e34hE0Fw6ZAPWrN1e6pLzd6sj+nQba8im2pH3UqrlJKLPF/i1q+r+A9L1TUNbgDtb7pIJYzztxwG5/HNfI/gTRB400bUPj3rmTHc38i2t433ZY4zyIz/EuepBr71+LnhDwV448GXfh7xfBDcQ3ts0Mr+au9PWvC/hZ+z9deIvD/APwoG0NxYadot3D/AGfrNpJG2LL7zw7WUq27+I5pVYt1OY+j/tCSwtmzmvgB8KtB/aX8f2PiDT/Bk4g08gLPM4eKVQwbO0cde9fo94a0u28O6JbaTZQhI4YgqqB0wK4T4NfC7wv8KdDt9L8LaNbW1tbxCNVhTGSOtdwNTx92AV0UVaV2z5TM8bKo+VC65chYZLq5A8mOMkmvyl/bH8fP+0h8Y9dtNH8P2OnXPgu4kTwvqfi+GN9N1CMOfOKNzsfzP9WwU7ipUr3r9D/2r/i3p3w5+Bev+KtQ1SGzNlYyPHLJPsAbaQDwf6V+Znw//bS1Sy+FetaD4W8LeGPFcX2uKddFtdT+y2vm5/frJ5wG5pOefmwSSK6VUi90eZh6OJb54asX9kmH4q/tIsnw48UaJ4d0q5nLw21xd6tbaZqGnXcKFDKiIdksZ4BQlnBz8g7+569/wTn+M37I2jax8X9W1Sy+IfgDUr61MosPFRjDxMyl8Mm1op1fO1wcA9c18hfEG7uPi9e6d8crb4R33wltdBMlzZ6L4c8W4t7m7BG1YBGQxVm27hkBfvZPSuk/Y9/4KV/F34TePDoPj7T7e3sbgxpqrNrD3+nTwh2+W6glZzhgfvLjB5PArXE2rYd0X8L0aPfwMc3WIjiKM9V/Xfc/ZT4dfs2fsF/tSeCtC12z+Dekf2x4dhjksri4T/iZ6bOY8FmfO5m5PLZB68V8Dfts/sGHSfitq1zNc3q6hGh8m5iyq3J2rskORyccEg8EGvuv9nZvgL8X9cX4ifBNrnQPEE9kl01vp8vm2UwK54bG0A8457niup/bX/Z/1T41+FdL8TeF7WOTWbNhDNETgMrck57Yr8s42wPEOX1JZ3w1R5MVhtElFSVek7OVNq26aTi1qtbH4rx/ldLiWc8NmEpTUb8vNJtxv2d3Z3bfbc/Lz9nrwt4l8DeEbrW/HlxNJrF9+7Mty7MQi/dTOPpXO+PdL1/wM/8AwnOlXMMlyZHiFpLh0ZW4zj8a+8PCH/BPH4jX+JPGs2l2+e+8n+X4Vqav/wAEmPBvi/m9+Kl1BKefJs7HI+X+7uP+c1/P+bcMeLniJxTUzjG5XKnzpRtJxhFQirKK55J231sfLcOZJQ4fyyGDw92o31e7bZ8I/wDBMb4wfFjwv+1h4p8X3HiCZrm5trWeXzGyGw5VoiBj5duBj3r9k/CvjbTvjD4a0v4i6FC653RXdu6/NG+ACPoD+hzXyZ8AP+CaP7P3gzV9b8deB/Eni2LV7eJrVzr0KCOZgQQVRQCy5A5z0zxXonwi8Y3Xw90LU5ba1miuLK4iBhySoYMwdWA6g7cV7mZ5LxR4f4ieFzmglgsSo/BaXJOEEr27qKXTVde36dlF3SStqrntHifVtP8ADUU19a+CZbt8F5JI7Qc/U4rnrH4tS30pmi+H7t5f+qZZo1P69Kzdb/bD8T6Z4xi8OW/7OWsavpUiBm8Q22rW6RbSM7grEEjPHXtXEfHf4l/DLVIV1HwX8T7TwzfrkzaRqNvvG/ngtGTjOOhJ65r5fHxy3HYV1MpzCnVkt6bThOPyaaeum59PhsNWbvWptR73uv8AMua/+0x8V9X8U3PhfS/2c7g6VBGPOv8AUtYjgZz1OwED8814N+0r/wAFG/iX4i8N6r4E8GfArRtL1i3uBbw33inVY5LWBlJBcLsddxXAG4bTgg5r0Gz+PmitpSaLoXjLVdR1W7hKxvp2nLLFbnBBLEsCw6dh0+lfJvxK8P6l8Y/F+sfD3w18VprLUl1mV/GMkvhUrJcmPcFhiPmjCHcTu5+6vFfo/wBH6vm1HHY+njpL3lFxV9tbP79PyPpMDk2TYysliItJaqz/ADOL8WReLPAvw7Txd4r+A3hTXrTULnzJb/wzp63Fuz55XbCy4xkfwgDnFeRfGnxl+yVrWpaR488G/BXU9C1/TrgS3eo+HrwoI5lYEhd7CSPJ6h1YdeR1r7O8G/C74DfBWyt7jT9Pn02/uURZk1XWJIobwgctLHIDGRnn5WU89a4T4q/BPUP2i/FUvw38F/BjQ49dsEP/ABMJ9bgM+prydtvAke7bgcOeD3Ir+l6uHk4No51jo0sYqauvNaG7+wt+15pPxz0WWza4mtb+xuPJNnqDKJpFwMMAPbr6Gvs7w1fNJpqJKf8Adr8SvFF5J+yV8X7L4g+FJNU0660q8A1mxvIB5bRBwJFVl4GADgn16Dv+u/wN+K+l+PvBGl+JbG6WSHULNJ4pFbghhkV5uFqypzdOW5yZrBSl7SK06HpOqabZa3p8mmajbJNBMpV43XIINfC37e/7Fvh3/hFtX1C+8DQaxoUqmR7R7RpjHwScAcqAe+fSvuL+0XwC386bcourWb21xGro3BV1BBrepTjUjZnHluPrYWumj8u/2TfC3gj4f/DGz8M6BDa6NpiANDCWOEJHO7/aJ6k889a+mvhd4UutdjjvdJ1CSSA4Bc/cb6evSuz+IX7J3gRPF/8AwmmleFbWT93+809gVhZx0faOCf6cVd0u31WwRbKSxt7aFFwiQvgKPQACuenQcFZn1lbNfrkFzdDZ0bwj4Esliu7mD7Tcx/ceRiVX6c1PrU8FxwNTgROcR8Cud/4RGW8vvOg8TTQw5/1ZYndW3a+EdPjXcbh50Xrv5qZxtM8vEVqaVzkPFWjpJGZwQyFuGU/dNeraL+2R4+0jRrTSTe7vsttHDuc8naoXJ9+K8w8W3UUQNrAAqk8KvSudy/8AeoWJrRVk9Dyaqo1neSufd8Uu7kD6ipE6fjVSKVlzgCp4pWZckDrX1x+QlqDofrVyJQWCkcVTg6H61ctwSwxWjldGVTcxPjVaxXnwY8RxSrn/AIlr4/I1+f8A8O5i8aDJ+/0/Cv0G+L4A+EHiAA9dMkr86vAV/Hb3cEMjcLIc/pXjY96pH2/C/wDu8vke8+HoITp6Air0+laLDbmeaxj6elYeg6xut1iVj7c1b1Waa9gKCUjC8Ad68tuyufVQnLnOM8eajpUr/Y4NLgKZxxEP89a6v4PaF9jKSC0jiCnPydhWXD4RXULjNxHXoPgzSRBEqqu1gOTilTlzSsdVbESjSsdfBZo0Q8shVUcCob11s4mldsBR3qeKQRRhAe1Znic+ZaHmuqcbRPGVTnqHy/8A8FRtW8OeI/2a9Z+F1nd6RNq/iSNbeystSvPJ+0Z5kVT93ecYC7smvzL+DHwBvJtaTQ/G3hrXdI022nEUlzq9jut4XVsnZ5o2s305r9Bf+Cjn7CP7Qf8AwUB8J2Xwk+BniddD1PSbtNRmtfNWFdShQAFjMxG3GO4x714fonxT/ad+DOkP+zl8VfEOkfEaTwwEjV/EXgyO6e1faWeM3sThpMZGPmPTFRheaavJWPcwMnTw7hBpy++x9I+B/wDgnP8AsxeI9H0K90rVhr0k9nHHFo+g+E7Qv82PvSMWVfcsDjFcp8ff+CS/wB8A6ba+L9XstU0LW2vFa8fw9dWlq2n2zfwGR2G7IxkjK8de1Tfsc/tR+K9SuV07QtM8IWdhFKYxpv2Vp58qSW2ncQA2MYrW1jxL8bPjlPPoHjHUk03S59T8zWJbrTkFrqfzZjtY3b7qgCvXtT5bnkVquKwcr8z0PTf2J/Bg/ZZ8ayaV4Rs7u+8M65psb2GtzarDKZyoxlljYKGBPPCk4zX1HbfEb42X1rLa22haHCJf9V597Lv/ANncuzFeDfCXQILHVY9L0zThZQxpGk1vhQI3HzfKw/h+Xhe/UV9DWwtrpYrqM87Fx+VXhcQoVEnFNeZ8PmmIni8S6ktxg0X4yOsT6p470i3+RvtcMFnlQSc5R9wbI9xiuL8f/CvxX4q8HeKvA+l/G7UpNV1rSzDpqT6htS3lByOEbzEVujFCG25xziu5vpr2RcmbIHOAKx/7Gso9UGtQW0cd0I2T7QsYDkHqMjnBr2oZhy7JfJJfoeX7J3Pln9m74bfCDWf2idAu/h94JttF13wbBMvie0t7m8fULaZVWMwXEkj73iY75E8xSJEKnI217xewQagviCa1bD3cwlRD2AJwPxrsr+DSLR77xBpugWUeqXdukVzfJbKJrhF+6HcfM2MnGScZOOprm/CGkvHdSrfJ8srKcfRjn+dfkHjHip5hgKVGytaUvnsfSZJ1Xp+pxWj+JLXTrBNP8SfDS+vb5f8Aj0mD4jeM/dX6Dnmu78EfDjwHcwC+1bwfYvcTtucSQKdp9OlXNY8X+FvAnhF9U8RaRLOLYNu+xwb2IHOAM159H8S/iB8S9Hj174fpH4ftPmYSX9sWnKjvtJwPbr1r+J+aGS4yVP3Xzrm87efp+p+kP2sqOiPVvFWieG/Bumxp4e8MWYluotsSIVhH5ke9fEv7TH7Nf7Teh/EPUPjB4K8DaItjqNwC0qaozTQE9Cyop3jqOa+o9C0my17TJNV8c/Fi4uFtQrIk08cSKOwAqDWvjd8BdL0yW3uvGVzexD5JbaxSSdj/ALO1a/avAuGEx/EOJqUKUoQVOzlZqPNzbJ/I8rMM1r5PKDptSb39D4J8Ty/Hb+zZdN+JXj+3htpZebD+xYZ4Nv8AvsuR2ryL4qeHvjZ4ntdO8f8AwP8AifBZa7oHz2sUjxqwRcExb1lDEE5GO9fa3xz+Htj8XJbmLS/2a/H2t6BeRnyfsUa2YcMM/I7t8pNebeL/ANm3wdYaHZeF/D/wH8HeFo5dvmDV/EFpDfMnTaPIeRnf1+QA5r+quWysa083wuJh7Vxd2fmr+0D4w8Taut7feI/Dt3oOpal5kmoWsMMgSOaTPmI0cmDJET82+Mt15r7Q/wCCFP7Xet/Fv4S618ItZ1zTp9S8G6l5dtCH2TNZuDtYLwdoYdTXlH7Zfwc1TTre4j0/xjaa9Y2100UemH51iI6GIyLuXHSvkv8A4J3+O9B+B/8AwUE0PVvD1zqFtb+IrqbTLm2gmGd0pOFPQcMPf2r57EJrGNnvU6UMTl6TP6E7DVdTmdFmkByf71dhouLixBxXiPgnU7wXAnM9zv8A+WkE6fc6d69Y8K66/wBmSJ04Ydz0r0qEpSgfK4ynKhJJGnrOnrd2ssTJ2615xrfhExSHyHII7V6nPGJYWxyCOeK5fXbMK5bGeeaqdLsFLFeZyml6fBblQY8Adc1s3TRmBh2qlLGYp+vBORzTbi7LR4BPvzXG43ky68pSR5544OzUmx/eNZXme1XvGRJ1JmP944rLyPUUvZ+Y4fCfcUfepoGKnjueahj71LEcc+hr6w/JS/AenNXIuYxVGE1dgIKDmuh/CZTM/wCJpZ/hZrgPOdMmH6GvzWspl0fVtpbpI3Ue9fpZ8Q9r/D/V7X1sX4z7V+ZOqsx1ggn/AJaN/Ovns391qR9vwtrSce9j2HwR4h+1WyHzBu4wa6+2k+0KCPSvKPDc5stPjIPbBr1Dw5OLmxilU8jg/WvEhNydj6yUbG9pVoVXdjkniuo0CEW6hD1I5Nc/pX+sFdNo5wxPtXbSjY4K02W7i7trSJpJHA9BXHa14q1q6nNtBZYj5ya6fUcfxDjvWBr9/FaQjA4HK/Stpx90MJ/EufBH/BS344fFT9nX4laAPB/xyutD1bxZo9za3FrbWBuFey38oAGXyyw4JrzH4b6P4g8Q6TCfDX9san5wTzYpoUi+9n+JF/8Aalel/t46P/wnn7X3heyI/wBVph7Z9a+mP2c/2T4PEOlQXPiO2lgtYEBPy9/z9q4ac3zH2dXGZblWWqtU3/M4D9kn9kO81DVobu+0oQ2lrhpJ7NflGTwemWavuHSvh/4Y03woPCEOnKbA8FXXLeu//erR8KeFNI8J6PFpOkWyxoigYxgk+pretdMMvzkV69F36n45nmf1sxxL5EoxW39fI890b4YroG2X7fNemEN9mknjx5SE/dGOwH5nmui0y4az2rnIxXVHQ7cpuaNfcVh6robw3LParkZ5HpXRKPLJM8mNTmd2OhvIZ3a3lOD/ADqOdYBkDn6UyPS7uT94Au76VDLoWqXMhxciKt07kKV3YcqQFsXDYFbmvar4V0vQbfTbDSI3uJ3/AOPiOIbkXGMZ6++KwB4avY/mmv8Af9DSOsFhCIzjg815Oc4D+1cDUw6spSTSb6HpYLEunUTRzFtHa+KdY1fwgssQuLcJcwpdwsY2zkcgEZ6Hv6VFffCfxnqsg07UPFlnZ6eDlk0e1ZJH9BuYkr+Fad5Zi8luh5zx/aI0UyQuVYEFiSCOnWoNP0C3srlZW1G/lx/BNeuyt7EGvxzJfBDh2lmn1/Mf307W7K909td7dz6DFcR4pUfZ01ZeZQ8A/Bb4S2epPpNltvZJH3Sy3+6XP1ZgQa9Z8M+DPBfgO3luNO8MxXVwg/1seniQrzn5A21MjHU8+9UvCHizUtHT7JpUEUS8fKI617rUdc1ht95flc/wjpX7hleUYPAYf2NCCjBbJaWtsrWPlMTja1bWT1M/xl4i8M+J4JLbXvhjqmsEkHytU1GKGIfTZIcD6LXyX+1n8Kk8K+HBr3hL9nLwBErSEy3dppM093Z9MbpZJCG5JwyqpGOa+uX0GIvkzjPrmsnW9DtrmCXTdRtVkilUh0cZDCuicIR2JoZjKL16H4h/HX4k+J28Vah4D+LVgDC9uIYrkWQWawZieC6AhlII2yZ+U5yR3+RPEPwktPhf+0L4Z1XxKsl3p02v20662FETxqX4MjDgsvJBAA9q/an/AIKAf8E//DvxG8Mt4m8GaUbSa2VndrJf3sPHIzzvhYABoiCOMjBPH5k/FX4Oa/4H8N3Pg3XrVrgW0O4yKSwjYEFWTcAQvBwO3NfNY7+Kfr/DWYUcflylTe39fofp94J8F/Eyx0yJPD3xit7u28pGgm1LS45JCrLlcvGV688kZ4r07wloHxJtESfUfEOm3SjukTRkn82rwD9nSLxlqnwa8MX+na5I6/2Taho7pB8+IvU89v1r3jwbZ+I/LU6hdQA44CSZxxWuFfvWMcytzno8FxJ9jMbld2BWXqMJm3jPemwGRFCE0rk4616bV7nhw+I5vVLSTJKDkdqzHYrwwrptSiQyE46jmuZuOZDn1rgqe6rnfQfPKxwHjNG+1A471ifvK2/GbEXOAf4qw97etc3tWW207H//2Q==\" \n",
       "                     alt=\"Video thumbnail\" \n",
       "                     style=\"max-width: 500px; width: 100%; margin-bottom: 10px;\">\n",
       "                \n",
       "                <!-- Video player (will work in Jupyter) -->\n",
       "                <video width=\"500\" controls>\n",
       "                    <source src=\"test_1k_compress/video8869.mp4\" type=\"video/mp4\">\n",
       "                    Your browser does not support the video tag.\n",
       "                </video>\n",
       "            </div>\n",
       "            "
      ],
      "text/plain": [
       "<IPython.core.display.HTML object>"
      ]
     },
     "metadata": {},
     "output_type": "display_data"
    },
    {
     "name": "stdout",
     "output_type": "stream",
     "text": [
      "❓ Question: What are the main activities happening in this video?\n",
      "\n",
      "🔄 Analyzing frames...\n",
      "Processing frame 1/4...\n",
      "Processing frame 2/4...\n",
      "Processing frame 3/4...\n",
      "Processing frame 4/4...\n",
      "\n",
      "💡 Answer: The main activities happening in this video appear to be constructing or assembling something using Lego-like blocks, likely building structures or designs. The person is either preparing and organizing materials for a craft project or sorting through individual elements for use later. Additionally, there may be some disassembling of structures taking place as well.\n",
      "\n",
      "Q: What are the main activities happening in this video?\n",
      "A: The main activities happening in this video appear to be constructing or assembling something using Lego-like blocks, likely building structures or designs. The person is either preparing and organizing materials for a craft project or sorting through individual elements for use later. Additionally, there may be some disassembling of structures taking place as well.\n"
     ]
    }
   ],
   "source": [
    "# Initialize the system\n",
    "video_qa = VideoQASystem(data)\n",
    "\n",
    "# Test with the same video\n",
    "video_id = \"video8869\"\n",
    "question = \"What are the main activities happening in this video?\"\n",
    "\n",
    "# Get answer\n",
    "answer = video_qa.answer_question(video_id, question)\n",
    "print(f\"\\nQ: {question}\")\n",
    "print(f\"A: {answer}\")"
   ]
  },
  {
   "cell_type": "markdown",
   "id": "d85c5276-6b1c-4a1b-86c1-2306edae1487",
   "metadata": {},
   "source": [
    "## Automatic Video Analysis"
   ]
  },
  {
   "cell_type": "markdown",
   "id": "6756f0bb-3e66-4567-a31c-1d4294b6dab7",
   "metadata": {},
   "source": [
    "The analyze_video_with_questions function automatically processes a video in two steps: First, it uses the video's text description to generate relevant questions using an LLM (Llama-3). Then, for each generated question, it performs visual analysis using LLaVA to provide answers, displaying the video and its description alongside the Q&A results. This creates a comprehensive analysis of the video content through automatically generated and answered questions."
   ]
  },
  {
   "cell_type": "code",
   "execution_count": null,
   "id": "aaeffa56-3235-4525-9cb1-02cc8848e9f8",
   "metadata": {
    "tags": []
   },
   "outputs": [
    {
     "data": {
      "text/html": [
       "\n",
       "            <div style=\"border: 1px solid #ddd; padding: 15px; margin: 15px 0; border-radius: 5px;\">\n",
       "                <h3 style=\"margin-top: 0;\">📽️ Video Analysis: video8869</h3>\n",
       "                <p><b>📝 Description:</b> a girl shows a pack of toy building blocks</p>\n",
       "                \n",
       "                <!-- Thumbnail for GitHub -->\n",
       "                <img src=\"data:image/jpeg;base64,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\" \n",
       "                     alt=\"Video thumbnail\" \n",
       "                     style=\"max-width: 500px; width: 100%; margin-bottom: 10px;\">\n",
       "                \n",
       "                <!-- Video player (will work in Jupyter) -->\n",
       "                <video width=\"500\" controls>\n",
       "                    <source src=\"test_1k_compress/video8869.mp4\" type=\"video/mp4\">\n",
       "                    Your browser does not support the video tag.\n",
       "                </video>\n",
       "            </div>\n",
       "            "
      ],
      "text/plain": [
       "<IPython.core.display.HTML object>"
      ]
     },
     "metadata": {},
     "output_type": "display_data"
    },
    {
     "name": "stdout",
     "output_type": "stream",
     "text": [
      "\n",
      "🤔 Generating relevant questions...\n",
      "\n",
      "📋 Questions & Answers:\n",
      "\n",
      "--------------------------------------------------\n",
      "Q1: What is the name or logo printed on the box of toy building blocks?\n",
      "❓ Question: What is the name or logo printed on the box of toy building blocks?\n",
      "\n",
      "🔄 Analyzing frames...\n",
      "Processing frame 1/4...\n",
      "Processing frame 2/4...\n",
      "Processing frame 3/4...\n",
      "Processing frame 4/4...\n",
      "\n",
      "💡 Answer: The name or logo printed on the box of toy building blocks is \"LEGO.\"\n",
      "A: The name or logo printed on the box of toy building blocks is \"LEGO.\"\n",
      "\n",
      "--------------------------------------------------\n",
      "Q2: How many individual blocks does she pull out from the pack at the start of the video?\n",
      "❓ Question: How many individual blocks does she pull out from the pack at the start of the video?\n",
      "\n",
      "🔄 Analyzing frames...\n",
      "Processing frame 1/4...\n",
      "Processing frame 2/4...\n",
      "Processing frame 3/4...\n",
      "Processing frame 4/4...\n",
      "\n",
      "💡 Answer: Based on the observations, it is not possible to determine the exact number of individual blocks that she pulls out from the pack at the start of the video. The text states that there are 7 individual bricks visible in the package before any have been removed, but it does not provide information about how many blocks were actually pulled out or what happens after that point.\n",
      "A: Based on the observations, it is not possible to determine the exact number of individual blocks that she pulls out from the pack at the start of the video. The text states that there are 7 individual bricks visible in the package before any have been removed, but it does not provide information about how many blocks were actually pulled out or what happens after that point.\n",
      "\n",
      "--------------------------------------------------\n",
      "Q3: Can you spot any distinctive shapes, colors, or textures on the building blocks?\n",
      "❓ Question: Can you spot any distinctive shapes, colors, or textures on the building blocks?\n",
      "\n",
      "🔄 Analyzing frames...\n",
      "Processing frame 1/4...\n"
     ]
    }
   ],
   "source": [
    "# Analyze a video with auto-generated questions\n",
    "video_id = \"video8869\"\n",
    "video_qa.analyze_video_with_questions(video_id)"
   ]
  },
  {
   "cell_type": "markdown",
   "id": "8a33a317-2aab-4894-9500-20e92a9896a2",
   "metadata": {},
   "source": [
    "# Additional Thoughts "
   ]
  },
  {
   "cell_type": "markdown",
   "id": "edac99ae-3426-4119-8c2e-de35faea4315",
   "metadata": {},
   "source": [
    "**Additional Enhancements for Video Q&A System:**\n",
    "\n",
    "**Advanced Model Integration**\n",
    "\n",
    "- Direct integration with [MiniGPT4-video](https://vision-cair.github.io/MiniGPT4-video/):\n",
    "   * Replace frame-by-frame LLaVA analysis with single pass through MiniGPT4-video\n",
    "   * Better temporal understanding and more coherent answers\n",
    "   * Supports longer video context windows\n",
    "\n",
    "- Object and action detection:\n",
    "   * Use DINO-v2 to detect key objects and activities\n",
    "   * Add detection results to prompts (\"I see a person cooking, holding a pan...\")\n",
    "   * Create richer context for more accurate answers\n",
    "\n",
    "- Scene segmentation:\n",
    "   * Detect scene changes in video\n",
    "   * Split questions/answers by relevant scenes\n",
    "   * Enable temporal localization (\"in the first scene...\")\n",
    "\n",
    "**Improved Analysis**\n",
    "\n",
    "- Multi-turn conversations:\n",
    "   * Keep conversation history and video context\n",
    "   * Allow follow-up questions about previous answers\n",
    "   * Enable clarifications and deeper exploration\n",
    "\n",
    "- Timestamp-specific questions:\n",
    "   * Link answers to specific video timestamps\n",
    "   * Allow questions about specific moments\n",
    "   * Navigate to relevant parts of video when answering\n",
    "\n",
    "- Visual highlighting:\n",
    "   * Overlay detected objects/actions on video\n",
    "   * Show relevant regions for each answer\n",
    "   * Help users understand model's focus areas\n",
    "\n",
    "- Cross-video references:\n",
    "   * Compare similar scenes across videos\n",
    "   * Answer questions spanning multiple videos\n",
    "   * Find related content in video database\n",
    "\n",
    "This enhanced system would combine specialized video understanding with rich contextual information from detectors, enabling more precise and interactive video analysis."
   ]
  }
 ],
 "metadata": {
  "kernelspec": {
   "display_name": "llm_env",
   "language": "python",
   "name": "llm_env"
  },
  "language_info": {
   "codemirror_mode": {
    "name": "ipython",
    "version": 3
   },
   "file_extension": ".py",
   "mimetype": "text/x-python",
   "name": "python",
   "nbconvert_exporter": "python",
   "pygments_lexer": "ipython3",
   "version": "3.10.13"
  }
 },
 "nbformat": 4,
 "nbformat_minor": 5
}
