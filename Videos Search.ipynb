{
 "cells": [
  {
   "cell_type": "markdown",
   "id": "4f3962ea-437a-4d30-86f9-eab7ec171835",
   "metadata": {},
   "source": [
    "# Libraries"
   ]
  },
  {
   "cell_type": "code",
   "execution_count": 17,
   "id": "37640c7d-588d-4da3-815e-e461e13ba0c7",
   "metadata": {
    "tags": []
   },
   "outputs": [],
   "source": [
    "import pandas as pd\n",
    "from IPython.display import HTML\n",
    "import os\n",
    "import cv2\n",
    "import matplotlib.pyplot as plt\n",
    "import torch\n",
    "import clip\n",
    "import pandas as pd\n",
    "import numpy as np\n",
    "from PIL import Image\n",
    "import torchvision.transforms as transforms\n",
    "from torch.utils.data import Dataset, DataLoader\n",
    "from sklearn.metrics.pairwise import cosine_similarity\n",
    "from tqdm import tqdm\n",
    "import cv2\n",
    "from IPython.display import display, HTML\n",
    "import base64\n",
    "import io"
   ]
  },
  {
   "cell_type": "markdown",
   "id": "2c6ee012-59b3-4987-89f5-8f1efd916368",
   "metadata": {
    "tags": []
   },
   "source": [
    "# Data "
   ]
  },
  {
   "cell_type": "markdown",
   "id": "4ac34403-9220-4f0f-a14e-d62380ec8c8a",
   "metadata": {
    "tags": []
   },
   "source": [
    "## Load data"
   ]
  },
  {
   "cell_type": "markdown",
   "id": "bf44162d-dcd9-4495-85c0-ed85dad582c5",
   "metadata": {},
   "source": [
    "We will use the 1K [MSR-VTT dataset](https://www.microsoft.com/en-us/research/publication/msr-vtt-a-large-video-description-dataset-for-bridging-video-and-language/), a subset of the Microsoft Research Video to Text dataset designed for open-domain video captioning"
   ]
  },
  {
   "cell_type": "code",
   "execution_count": 2,
   "id": "1297368d-2923-4603-b2d3-978c6f868e24",
   "metadata": {
    "tags": []
   },
   "outputs": [
    {
     "name": "stdout",
     "output_type": "stream",
     "text": [
      "  % Total    % Received % Xferd  Average Speed   Time    Time     Time  Current\n",
      "                                 Dload  Upload   Total   Spent    Left  Speed\n",
      "  0     0    0     0    0     0      0      0 --:--:-- --:--:-- --:--:--     0\n",
      "100  210M  100  210M    0     0  3027k      0  0:01:11  0:01:11 --:--:-- 3093k210M   34 73.1M    0     0  2932k      0  0:01:13  0:00:25  0:00:48 3075k\n"
     ]
    }
   ],
   "source": [
    "! curl -L https://github.com/towhee-io/examples/releases/download/data/text_video_search.zip -O\n",
    "! unzip -q -o text_video_search.zip"
   ]
  },
  {
   "cell_type": "code",
   "execution_count": 3,
   "id": "b003d7a3-b9d4-4fcc-9e16-4301ceaf9342",
   "metadata": {
    "tags": []
   },
   "outputs": [
    {
     "data": {
      "text/html": [
       "<div>\n",
       "<style scoped>\n",
       "    .dataframe tbody tr th:only-of-type {\n",
       "        vertical-align: middle;\n",
       "    }\n",
       "\n",
       "    .dataframe tbody tr th {\n",
       "        vertical-align: top;\n",
       "    }\n",
       "\n",
       "    .dataframe thead th {\n",
       "        text-align: right;\n",
       "    }\n",
       "</style>\n",
       "<table border=\"1\" class=\"dataframe\">\n",
       "  <thead>\n",
       "    <tr style=\"text-align: right;\">\n",
       "      <th></th>\n",
       "      <th>video_id</th>\n",
       "      <th>sentence</th>\n",
       "    </tr>\n",
       "  </thead>\n",
       "  <tbody>\n",
       "    <tr>\n",
       "      <th>0</th>\n",
       "      <td>video9770</td>\n",
       "      <td>a person is connecting something to system</td>\n",
       "    </tr>\n",
       "    <tr>\n",
       "      <th>1</th>\n",
       "      <td>video9771</td>\n",
       "      <td>a little girl does gymnastics</td>\n",
       "    </tr>\n",
       "    <tr>\n",
       "      <th>2</th>\n",
       "      <td>video7020</td>\n",
       "      <td>a woman creating a fondant baby and flower</td>\n",
       "    </tr>\n",
       "    <tr>\n",
       "      <th>3</th>\n",
       "      <td>video9773</td>\n",
       "      <td>a boy plays grand theft auto 5</td>\n",
       "    </tr>\n",
       "    <tr>\n",
       "      <th>4</th>\n",
       "      <td>video7026</td>\n",
       "      <td>a man is giving a review on a vehicle</td>\n",
       "    </tr>\n",
       "  </tbody>\n",
       "</table>\n",
       "</div>"
      ],
      "text/plain": [
       "    video_id                                    sentence\n",
       "0  video9770  a person is connecting something to system\n",
       "1  video9771               a little girl does gymnastics\n",
       "2  video7020  a woman creating a fondant baby and flower\n",
       "3  video9773              a boy plays grand theft auto 5\n",
       "4  video7026       a man is giving a review on a vehicle"
      ]
     },
     "execution_count": 3,
     "metadata": {},
     "output_type": "execute_result"
    }
   ],
   "source": [
    "data = pd.read_csv('MSRVTT_JSFUSION_test.csv')[['video_id', 'sentence']]\n",
    "data.head()"
   ]
  },
  {
   "cell_type": "markdown",
   "id": "cd5b1c8d-1a27-4d98-b454-e283f414df0c",
   "metadata": {
    "tags": []
   },
   "source": [
    "## Explore Data"
   ]
  },
  {
   "cell_type": "code",
   "execution_count": 4,
   "id": "423ded95-570e-4343-9041-f9ad605393b2",
   "metadata": {
    "tags": []
   },
   "outputs": [
    {
     "name": "stdout",
     "output_type": "stream",
     "text": [
      "we have 1000 videos in the dataset\n"
     ]
    }
   ],
   "source": [
    "print(f\"we have {data.shape[0]} videos in the dataset\")"
   ]
  },
  {
   "cell_type": "markdown",
   "id": "e21fc60f-f3a8-4769-8f8c-bf807cd1f0cf",
   "metadata": {},
   "source": [
    "Let's plot few examples videos with captions"
   ]
  },
  {
   "cell_type": "code",
   "execution_count": 23,
   "id": "5c35820d-aada-4fe2-af48-4e2ff57ac37e",
   "metadata": {
    "tags": []
   },
   "outputs": [
    {
     "data": {
      "text/html": [
       "\n",
       "        <div style=\"border: 1px solid #ddd; padding: 10px; margin: 10px 0;\">\n",
       "            <p><b>Caption:</b> a girl wearing red top and black trouser is putting a sweater on a dog</p>\n",
       "            \n",
       "            <!-- Thumbnail for GitHub -->\n",
       "            <img src=\"data:image/jpeg;base64,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\" \n",
       "                 alt=\"Video thumbnail for video7579\" \n",
       "                 style=\"max-width: 600px; width: 100%; margin-bottom: 10px;\">\n",
       "            \n",
       "            <!-- Video player (will work in Jupyter) -->\n",
       "            <video width=\"600\" controls>\n",
       "              <source src=\"test_1k_compress/video7579.mp4\" type=\"video/mp4\">\n",
       "              Your browser does not support the video tag.\n",
       "            </video>\n",
       "            \n",
       "            <p style=\"color: #666; font-style: italic;\">Video: test_1k_compress/video7579.mp4</p>\n",
       "        </div>\n",
       "        <hr>\n",
       "        "
      ],
      "text/plain": [
       "<IPython.core.display.HTML object>"
      ]
     },
     "metadata": {},
     "output_type": "display_data"
    },
    {
     "data": {
      "text/html": [
       "\n",
       "        <div style=\"border: 1px solid #ddd; padding: 10px; margin: 10px 0;\">\n",
       "            <p><b>Caption:</b> young people sit around the edges of a room clapping and raising their arms while others dance in the center during a party</p>\n",
       "            \n",
       "            <!-- Thumbnail for GitHub -->\n",
       "            <img src=\"data:image/jpeg;base64,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\" \n",
       "                 alt=\"Video thumbnail for video7725\" \n",
       "                 style=\"max-width: 600px; width: 100%; margin-bottom: 10px;\">\n",
       "            \n",
       "            <!-- Video player (will work in Jupyter) -->\n",
       "            <video width=\"600\" controls>\n",
       "              <source src=\"test_1k_compress/video7725.mp4\" type=\"video/mp4\">\n",
       "              Your browser does not support the video tag.\n",
       "            </video>\n",
       "            \n",
       "            <p style=\"color: #666; font-style: italic;\">Video: test_1k_compress/video7725.mp4</p>\n",
       "        </div>\n",
       "        <hr>\n",
       "        "
      ],
      "text/plain": [
       "<IPython.core.display.HTML object>"
      ]
     },
     "metadata": {},
     "output_type": "display_data"
    },
    {
     "data": {
      "text/html": [
       "\n",
       "        <div style=\"border: 1px solid #ddd; padding: 10px; margin: 10px 0;\">\n",
       "            <p><b>Caption:</b> a person is using a phone</p>\n",
       "            \n",
       "            <!-- Thumbnail for GitHub -->\n",
       "            <img src=\"data:image/jpeg;base64,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\" \n",
       "                 alt=\"Video thumbnail for video9258\" \n",
       "                 style=\"max-width: 600px; width: 100%; margin-bottom: 10px;\">\n",
       "            \n",
       "            <!-- Video player (will work in Jupyter) -->\n",
       "            <video width=\"600\" controls>\n",
       "              <source src=\"test_1k_compress/video9258.mp4\" type=\"video/mp4\">\n",
       "              Your browser does not support the video tag.\n",
       "            </video>\n",
       "            \n",
       "            <p style=\"color: #666; font-style: italic;\">Video: test_1k_compress/video9258.mp4</p>\n",
       "        </div>\n",
       "        <hr>\n",
       "        "
      ],
      "text/plain": [
       "<IPython.core.display.HTML object>"
      ]
     },
     "metadata": {},
     "output_type": "display_data"
    }
   ],
   "source": [
    "# Randomly select a few examples\n",
    "num_examples = 3  # Specify how many examples to display\n",
    "selected_examples = data.sample(num_examples, random_state=42)\n",
    "\n",
    "# Display selected examples with videos\n",
    "for _, row in selected_examples.iterrows():\n",
    "    video_id = row['video_id']\n",
    "    sentence = row['sentence']\n",
    "    video_path = f\"test_1k_compress/{video_id}.mp4\"\n",
    "    \n",
    "    # Get video thumbnail\n",
    "    cap = cv2.VideoCapture(video_path)\n",
    "    ret, frame = cap.read()\n",
    "    cap.release()\n",
    "    \n",
    "    if ret:\n",
    "        # Convert BGR to RGB using PIL\n",
    "        frame = cv2.cvtColor(frame, cv2.COLOR_BGR2RGB)\n",
    "        pil_image = Image.fromarray(frame)\n",
    "        \n",
    "        # Save to base64 using PIL\n",
    "        buffer = io.BytesIO()\n",
    "        pil_image.save(buffer, format='JPEG', quality=95)\n",
    "        img_base64 = base64.b64encode(buffer.getvalue()).decode('utf-8')\n",
    "        \n",
    "        # Display caption, thumbnail and video\n",
    "        display(HTML(f\"\"\"\n",
    "        <div style=\"border: 1px solid #ddd; padding: 10px; margin: 10px 0;\">\n",
    "            <p><b>Caption:</b> {sentence}</p>\n",
    "            \n",
    "            <!-- Thumbnail for GitHub -->\n",
    "            <img src=\"data:image/jpeg;base64,{img_base64}\" \n",
    "                 alt=\"Video thumbnail for {video_id}\" \n",
    "                 style=\"max-width: 600px; width: 100%; margin-bottom: 10px;\">\n",
    "            \n",
    "            <!-- Video player (will work in Jupyter) -->\n",
    "            <video width=\"600\" controls>\n",
    "              <source src=\"{video_path}\" type=\"video/mp4\">\n",
    "              Your browser does not support the video tag.\n",
    "            </video>\n",
    "            \n",
    "            <p style=\"color: #666; font-style: italic;\">Video: {video_path}</p>\n",
    "        </div>\n",
    "        <hr>\n",
    "        \"\"\"))\n",
    "    else:\n",
    "        display(HTML(f\"\"\"\n",
    "        <div style=\"border: 1px solid #ddd; padding: 10px; margin: 10px 0;\">\n",
    "            <p><b>Caption:</b> {sentence}</p>\n",
    "            <p>(Video preview not available: {video_path})</p>\n",
    "            \n",
    "            <!-- Video player (will work in Jupyter) -->\n",
    "            <video width=\"600\" controls>\n",
    "              <source src=\"{video_path}\" type=\"video/mp4\">\n",
    "              Your browser does not support the video tag.\n",
    "            </video>\n",
    "        </div>\n",
    "        <hr>\n",
    "        \"\"\"))"
   ]
  },
  {
   "cell_type": "markdown",
   "id": "b696a468-a20b-4192-abc8-3bb45285140f",
   "metadata": {
    "tags": []
   },
   "source": [
    "## Data Statistics"
   ]
  },
  {
   "cell_type": "code",
   "execution_count": 6,
   "id": "736ccd4a-30fb-4696-bd71-84d7d82650a7",
   "metadata": {
    "tags": []
   },
   "outputs": [
    {
     "data": {
      "image/png": "[encoded data removed]",
      "text/plain": [
       "<Figure size 1000x600 with 1 Axes>"
      ]
     },
     "metadata": {},
     "output_type": "display_data"
    }
   ],
   "source": [
    "# Function to get video length in seconds\n",
    "def get_video_length(video_path):\n",
    "    cap = cv2.VideoCapture(video_path)\n",
    "    if not cap.isOpened():\n",
    "        return None\n",
    "    length = cap.get(cv2.CAP_PROP_FRAME_COUNT) / cap.get(cv2.CAP_PROP_FPS)\n",
    "    cap.release()\n",
    "    return length\n",
    "\n",
    "# Calculate video lengths\n",
    "video_dir = \"test_1k_compress\"  # Path to the folder with videos\n",
    "video_lengths = []\n",
    "\n",
    "for video_id in data['video_id']:\n",
    "    video_path = os.path.join(video_dir, f\"{video_id}.mp4\")\n",
    "    if os.path.exists(video_path):\n",
    "        length = get_video_length(video_path)\n",
    "        if length:\n",
    "            video_lengths.append(length)\n",
    "\n",
    "# Plot the distribution\n",
    "plt.figure(figsize=(10, 6))\n",
    "plt.hist(video_lengths, bins=20, edgecolor=\"k\", alpha=0.7)\n",
    "plt.title(\"Video Length Distribution\")\n",
    "plt.xlabel(\"Length (seconds)\")\n",
    "plt.ylabel(\"Count\")\n",
    "plt.show()\n"
   ]
  },
  {
   "cell_type": "code",
   "execution_count": 7,
   "id": "ac2f6f65-2459-43ee-8a15-0d6a358121d0",
   "metadata": {
    "tags": []
   },
   "outputs": [
    {
     "data": {
      "image/png": "[encoded data removed]",
      "text/plain": [
       "<Figure size 1000x600 with 1 Axes>"
      ]
     },
     "metadata": {},
     "output_type": "display_data"
    }
   ],
   "source": [
    "# Calculate caption lengths\n",
    "data['caption_length'] = data['sentence'].apply(lambda x: len(x.split()))\n",
    "\n",
    "# Plot the distribution\n",
    "plt.figure(figsize=(10, 6))\n",
    "plt.hist(data['caption_length'], bins=20, edgecolor=\"k\", alpha=0.7)\n",
    "plt.title(\"Caption Length Distribution\")\n",
    "plt.xlabel(\"Number of Words\")\n",
    "plt.ylabel(\"Count\")\n",
    "plt.show()\n"
   ]
  },
  {
   "cell_type": "code",
   "execution_count": 8,
   "id": "27fc5c18-3127-4175-895f-a0fb3e14d5c3",
   "metadata": {
    "tags": []
   },
   "outputs": [
    {
     "data": {
      "image/png": "[encoded data removed]",
      "text/plain": [
       "<Figure size 1000x600 with 1 Axes>"
      ]
     },
     "metadata": {},
     "output_type": "display_data"
    }
   ],
   "source": [
    "import seaborn as sns\n",
    "import numpy as np\n",
    "\n",
    "# Combine video length with caption length\n",
    "video_data = []\n",
    "\n",
    "for video_id, caption in zip(data['video_id'], data['sentence']):\n",
    "    video_path = os.path.join(video_dir, f\"{video_id}.mp4\")\n",
    "    if os.path.exists(video_path):\n",
    "        video_length = get_video_length(video_path)\n",
    "        if video_length:\n",
    "            caption_length = len(caption.split())\n",
    "            video_data.append((video_length, caption_length))\n",
    "\n",
    "# Convert to a DataFrame for easier analysis\n",
    "correlation_df = pd.DataFrame(video_data, columns=['Video Length (s)', 'Caption Length'])\n",
    "\n",
    "# Compute correlation\n",
    "correlation = correlation_df.corr().iloc[0, 1]\n",
    "\n",
    "# Plot the relationship\n",
    "plt.figure(figsize=(10, 6))\n",
    "sns.scatterplot(data=correlation_df, x='Video Length (s)', y='Caption Length', alpha=0.7)\n",
    "plt.title(f\"Video Length vs. Caption Length (Correlation: {correlation:.2f})\")\n",
    "plt.xlabel(\"Video Length (seconds)\")\n",
    "plt.ylabel(\"Caption Length (words)\")\n",
    "plt.show()\n"
   ]
  },
  {
   "cell_type": "markdown",
   "id": "4ebfd86c-fc04-4786-8a77-373b80c8b842",
   "metadata": {},
   "source": [
    "we can see that there is no correlation between video length and description lergth"
   ]
  },
  {
   "cell_type": "markdown",
   "id": "fdd35755-5966-45de-8ac6-111375b9eb63",
   "metadata": {
    "tags": []
   },
   "source": [
    "# Video Search System using CLIP"
   ]
  },
  {
   "cell_type": "markdown",
   "id": "46d5a660-733a-49c8-af11-160a6018b6b7",
   "metadata": {
    "tags": []
   },
   "source": [
    "**CLIP Base Architecture**\n",
    "![CLIP Base Architecture](clip.PNG)\n",
    "\n",
    "CLIP (Contrastive Language-Image Pre-training) is trained on millions of (image, text) pairs from the internet. During training, it learns to:\n",
    "- Encode images and text into the same embedding space\n",
    "- Maximize similarity between matching image-text pairs\n",
    "- Minimize similarity between non-matching pairs\n",
    "- Create robust and generalizable visual-textual representations\n",
    "\n",
    "**Video Search System Architecture**\n",
    "![CLIP Video Search Architecture](diagram.svg)\n",
    "\n",
    "**System Components**\n",
    "\n",
    "**Video Processing (Offline)**\n",
    "- Extract 8 evenly spaced frames from each video\n",
    "- Each frame passes through CLIP's Vision Transformer (ViT) encoder\n",
    "- Get 512-dimensional embedding for each frame\n",
    "- Average the frame embeddings to get a single video representation\n",
    "- Store embeddings in index for fast retrieval\n",
    "\n",
    "**Text Processing (Online)**\n",
    "- Take the search query (e.g., \"cooking pasta\")\n",
    "- Pass through CLIP's text encoder (transformer-based)\n",
    "- Get a 512-dimensional text embedding\n",
    "\n",
    "**Similarity Matching**\n",
    "- Calculate cosine similarity between the text embedding and all video embeddings\n",
    "- Cosine similarity measures the angle between vectors: closer to 1 means more similar\n",
    "- Rank videos by similarity scores\n",
    "- Return top-k most similar videos\n",
    "\n",
    "**Key Features**\n",
    "- Both video and text are mapped to the same 512-dimensional space\n",
    "- CLIP was trained on millions of image-text pairs to align visual and textual features\n",
    "- Mean pooling of frames captures the overall video content\n",
    "- Cosine similarity is scale-invariant, focusing on directional similarity\n",
    "- The system can find relevant videos even with different phrasing due to CLIP's robust text understanding"
   ]
  },
  {
   "cell_type": "code",
   "execution_count": 9,
   "id": "00c427ad-625c-4f6b-8188-5dd6356f291a",
   "metadata": {
    "tags": []
   },
   "outputs": [],
   "source": [
    "class VideoDataset:\n",
    "    def __init__(self, df, video_base_path=\"test_1k_compress\"):\n",
    "        self.df = df\n",
    "        self.video_base_path = video_base_path\n",
    "        self.device = \"cuda\" if torch.cuda.is_available() else \"cpu\"\n",
    "        self.model, self.preprocess = clip.load(\"ViT-B/32\", device=self.device)\n",
    "        self.video_embeddings = None\n",
    "        \n",
    "    def get_video_frames(self, video_path, num_frames=8):\n",
    "        \"\"\"Extract evenly spaced frames from video\"\"\"\n",
    "        cap = cv2.VideoCapture(video_path)\n",
    "        total_frames = int(cap.get(cv2.CAP_PROP_FRAME_COUNT))\n",
    "        frames_to_sample = np.linspace(0, total_frames-1, num_frames, dtype=int)\n",
    "        \n",
    "        frames = []\n",
    "        for frame_idx in frames_to_sample:\n",
    "            cap.set(cv2.CAP_PROP_POS_FRAMES, frame_idx)\n",
    "            ret, frame = cap.read()\n",
    "            if ret:\n",
    "                frame = cv2.cvtColor(frame, cv2.COLOR_BGR2RGB)\n",
    "                frame = Image.fromarray(frame)\n",
    "                frame = self.preprocess(frame)\n",
    "                frames.append(frame)\n",
    "        \n",
    "        cap.release()\n",
    "        return torch.stack(frames)\n",
    "    \n",
    "    def compute_video_embeddings(self, batch_size=8):\n",
    "        \"\"\"Compute CLIP embeddings for all videos\"\"\"\n",
    "        video_embeddings = []\n",
    "        \n",
    "        with torch.no_grad():\n",
    "            for idx in tqdm(range(len(self.df))):\n",
    "                video_id = self.df.iloc[idx]['video_id']\n",
    "                video_path = f\"{self.video_base_path}/{video_id}.mp4\"\n",
    "                \n",
    "                # Extract frames and get their embeddings\n",
    "                frames = self.get_video_frames(video_path)\n",
    "                frame_embeddings = []\n",
    "                \n",
    "                for i in range(0, len(frames), batch_size):\n",
    "                    batch = frames[i:i+batch_size].to(self.device)\n",
    "                    embedding = self.model.encode_image(batch)\n",
    "                    frame_embeddings.append(embedding)\n",
    "                \n",
    "                # Combine frame embeddings (mean pooling)\n",
    "                video_embedding = torch.cat(frame_embeddings).mean(dim=0)\n",
    "                video_embeddings.append(video_embedding.cpu().numpy())\n",
    "        \n",
    "        self.video_embeddings = np.array(video_embeddings)\n",
    "        return self.video_embeddings\n",
    "\n",
    "    def search(self, query, top_k=5, display_results=True):\n",
    "        \"\"\"Search videos based on text query and optionally display results\"\"\"\n",
    "        if self.video_embeddings is None:\n",
    "            print(\"Computing video embeddings first...\")\n",
    "            self.compute_video_embeddings()\n",
    "\n",
    "        with torch.no_grad():\n",
    "            # Encode text query\n",
    "            text_tokens = clip.tokenize([query]).to(self.device)\n",
    "            text_embedding = self.model.encode_text(text_tokens)\n",
    "            text_embedding = text_embedding.cpu().numpy()\n",
    "        \n",
    "        # Compute similarities\n",
    "        similarities = cosine_similarity(text_embedding, self.video_embeddings)[0]\n",
    "        \n",
    "        # Get top-k results\n",
    "        top_indices = np.argsort(similarities)[-top_k:][::-1]\n",
    "        results = []\n",
    "        \n",
    "        for idx in top_indices:\n",
    "            result = {\n",
    "                'video_id': self.df.iloc[idx]['video_id'],\n",
    "                'sentence': self.df.iloc[idx]['sentence'],\n",
    "                'similarity': similarities[idx]\n",
    "            }\n",
    "            results.append(result)\n",
    "            \n",
    "            if display_results:\n",
    "                video_path = f\"{self.video_base_path}/{result['video_id']}.mp4\"\n",
    "                self.display_video_result(result['sentence'], video_path, result['similarity'])\n",
    "        \n",
    "        return results\n",
    "\n",
    "    def display_video_result(self, caption, video_path, similarity=None):\n",
    "        \"\"\"Display a single video result with its caption and similarity score\"\"\"\n",
    "        similarity_text = f\" (Similarity: {similarity:.3f})\" if similarity is not None else \"\"\n",
    "        \n",
    "        display(HTML(f\"<p><b>Caption:</b> {caption}{similarity_text}</p>\"))\n",
    "        display(HTML(f\"\"\"\n",
    "        <video width=\"600\" controls>\n",
    "          <source src=\"{video_path}\" type=\"video/mp4\">\n",
    "          Your browser does not support the video tag.\n",
    "        </video>\n",
    "        \"\"\"))\n",
    "        display(HTML(\"<hr>\"))  # Add a separator between results\n",
    "\n",
    "    def display_random_examples(self, num_examples=3, seed=42):\n",
    "        \"\"\"Display random examples from the dataset\"\"\"\n",
    "        selected_examples = self.df.sample(num_examples, random_state=seed)\n",
    "        \n",
    "        for _, row in selected_examples.iterrows():\n",
    "            video_id = row['video_id']\n",
    "            sentence = row['sentence']\n",
    "            video_path = f\"{self.video_base_path}/{video_id}.mp4\"\n",
    "            self.display_video_result(sentence, video_path)\n",
    "\n",
    "    def evaluate_search(self, test_queries=None, num_test_queries=100):\n",
    "        \"\"\"\n",
    "        Evaluate search engine using ground truth sentences as queries\n",
    "        Returns precision@k and similarity scores\n",
    "        \"\"\"\n",
    "        if test_queries is None:\n",
    "            test_queries = self.df.sample(num_test_queries)\n",
    "            \n",
    "        results = []\n",
    "        \n",
    "        for idx, row in test_queries.iterrows():\n",
    "            query = row['sentence']\n",
    "            true_video_id = row['video_id']\n",
    "            \n",
    "            # Get search results\n",
    "            search_results = self.search(query, top_k=10, display_results=False)\n",
    "            \n",
    "            # Check if true video is in top-k\n",
    "            retrieved_videos = [r['video_id'] for r in search_results]\n",
    "            rank = retrieved_videos.index(true_video_id) + 1 if true_video_id in retrieved_videos else -1\n",
    "            \n",
    "            results.append({\n",
    "                'query': query,\n",
    "                'true_video': true_video_id,\n",
    "                'rank': rank,\n",
    "                'top1_accuracy': 1 if rank == 1 else 0,\n",
    "                'top5_accuracy': 1 if 1 <= rank <= 5 else 0,\n",
    "                'top10_accuracy': 1 if 1 <= rank <= 10 else 0,\n",
    "                'similarity_score': search_results[0]['similarity'] if search_results else 0\n",
    "            })\n",
    "        \n",
    "        results_df = pd.DataFrame(results)\n",
    "        metrics = {\n",
    "            'top1_accuracy': results_df['top1_accuracy'].mean(),\n",
    "            'top5_accuracy': results_df['top5_accuracy'].mean(),\n",
    "            'top10_accuracy': results_df['top10_accuracy'].mean(),\n",
    "            'mean_similarity': results_df['similarity_score'].mean(),\n",
    "            'median_rank': results_df[results_df['rank'] != -1]['rank'].median()\n",
    "        }\n",
    "        \n",
    "        return metrics, results_df\n",
    "    \n",
    "    def generate_sentence_variants(self, sentence, num_variants=3):\n",
    "        \"\"\"\n",
    "        Generate variations of a sentence using Ollama API with improved parsing\n",
    "        \"\"\"\n",
    "        prompt = f\"\"\"Generate {num_variants} alternative descriptions for this scene. \n",
    "                    Keep the same meaning but use different words and structure.\n",
    "                    Format: Return ONLY the variations, one per line, no prefixes or explanations.\n",
    "                    Original: '{sentence}'\"\"\"\n",
    "\n",
    "        try:\n",
    "            response = requests.post(\n",
    "                'http://opmlgpubuild01:11434/api/generate',\n",
    "                json={\n",
    "                    'model': 'llama3',\n",
    "                    'prompt': prompt,\n",
    "                    'stream': False,\n",
    "                    'system': \"You are a helpful assistant that generates alternative descriptions. Respond ONLY with the variations, one per line. No explanations or prefixes.\"\n",
    "                }\n",
    "            )\n",
    "            response.raise_for_status()\n",
    "\n",
    "            # Clean and parse response\n",
    "            response_text = response.json()['response'].strip()\n",
    "            variations = [v for v in response_text.split('\\n') if v.strip() and \n",
    "                         not v.startswith(('Here are', '1.', '2.', '3.', '-', '•'))]\n",
    "\n",
    "            if not variations:  # If no valid variations found\n",
    "                return [f\"Alternative description: {sentence}\"] * num_variants\n",
    "\n",
    "            # Ensure we have enough variations\n",
    "            while len(variations) < num_variants:\n",
    "                variations.append(variations[0])  # Duplicate first variation if needed\n",
    "\n",
    "            return variations[:num_variants]\n",
    "\n",
    "        except Exception as e:\n",
    "            print(f\"Error generating variations: {e}\")\n",
    "            return [f\"Alternative description: {sentence}\"] * num_variants\n",
    "\n",
    "    def evaluate_robustness(self, num_samples=50, num_variants=3, top_k=5):\n",
    "        \"\"\"\n",
    "        Evaluate search robustness using sentence variations, focusing on successful retrievals\n",
    "        \"\"\"\n",
    "        sampled_data = self.df.sample(num_samples)\n",
    "        robustness_results = []\n",
    "\n",
    "        for _, row in tqdm(sampled_data.iterrows(), total=len(sampled_data)):\n",
    "            original_sentence = row['sentence']\n",
    "            true_video_id = row['video_id']\n",
    "\n",
    "            # Get original search results\n",
    "            original_results = self.search(original_sentence, top_k=top_k, display_results=False)\n",
    "            original_ranks = {r['video_id']: idx + 1 for idx, r in enumerate(original_results)}\n",
    "\n",
    "            # Only proceed if original query found the correct video\n",
    "            if true_video_id in original_ranks:\n",
    "                original_rank = original_ranks[true_video_id]\n",
    "\n",
    "                # Generate variations\n",
    "                variations = self.generate_sentence_variants(original_sentence, num_variants)\n",
    "\n",
    "                # Test each variation\n",
    "                for variant in variations:\n",
    "                    variant_results = self.search(variant, top_k=top_k, display_results=False)\n",
    "                    variant_ranks = {r['video_id']: idx + 1 for idx, r in enumerate(variant_results)}\n",
    "                    variant_rank = variant_ranks.get(true_video_id, -1)\n",
    "\n",
    "                    result = {\n",
    "                        'original_sentence': original_sentence,\n",
    "                        'variant_sentence': variant,\n",
    "                        'true_video_id': true_video_id,\n",
    "                        'original_rank': original_rank,\n",
    "                        'variant_rank': variant_rank,\n",
    "                        'rank_difference': abs(original_rank - (variant_rank if variant_rank != -1 else top_k + 1)),\n",
    "                        'maintained_in_top_k': variant_rank != -1,\n",
    "                        'original_similarity': original_results[0]['similarity'],\n",
    "                        'variant_similarity': variant_results[0]['similarity']\n",
    "                    }\n",
    "                    robustness_results.append(result)\n",
    "\n",
    "        results_df = pd.DataFrame(robustness_results)\n",
    "\n",
    "        # Calculate metrics only for cases where original query was successful\n",
    "        metrics = {\n",
    "            'total_successful_queries': len(results_df),\n",
    "            'maintained_in_top_k_ratio': results_df['maintained_in_top_k'].mean(),\n",
    "            'mean_rank_difference': results_df['rank_difference'].mean(),\n",
    "            'perfect_maintenance_ratio': (results_df['rank_difference'] == 0).mean(),\n",
    "            'similarity_correlation': results_df[['original_similarity', 'variant_similarity']].corr().iloc[0,1],\n",
    "            'avg_similarity_drop': (results_df['variant_similarity'] - results_df['original_similarity']).mean()\n",
    "        }\n",
    "\n",
    "        # Visualize results\n",
    "        plt.figure(figsize=(15, 5))\n",
    "\n",
    "        # Plot 1: Original vs Variant Ranks\n",
    "        plt.subplot(1, 3, 1)\n",
    "        valid_ranks = results_df[results_df['variant_rank'] != -1]\n",
    "        plt.scatter(valid_ranks['original_rank'], valid_ranks['variant_rank'], alpha=0.5)\n",
    "        plt.plot([1, top_k], [1, top_k], 'r--')  # Perfect maintenance line\n",
    "        plt.xlabel('Original Rank')\n",
    "        plt.ylabel('Variant Rank')\n",
    "        plt.title('Rank Maintenance Analysis')\n",
    "\n",
    "        # Plot 2: Original vs Variant Similarities\n",
    "        plt.subplot(1, 3, 2)\n",
    "        plt.scatter(results_df['original_similarity'], \n",
    "                   results_df['variant_similarity'], \n",
    "                   alpha=0.5)\n",
    "        plt.plot([0, 1], [0, 1], 'r--')  # Perfect correlation line\n",
    "        plt.xlabel('Original Similarity')\n",
    "        plt.ylabel('Variant Similarity')\n",
    "        plt.title('Similarity Comparison')\n",
    "\n",
    "        # Plot 3: Rank Difference Distribution\n",
    "        plt.subplot(1, 3, 3)\n",
    "        sns.histplot(results_df['rank_difference'], bins=top_k)\n",
    "        plt.xlabel('Rank Difference')\n",
    "        plt.ylabel('Count')\n",
    "        plt.title('Rank Difference Distribution')\n",
    "\n",
    "        plt.tight_layout()\n",
    "        plt.show()\n",
    "\n",
    "        # Display successful examples of perfect maintenance\n",
    "        print(\"\\n🎯 Examples where ranking was perfectly maintained:\")\n",
    "        perfect_matches = results_df[results_df['rank_difference'] == 0].sample(min(3, len(results_df)))\n",
    "        for _, row in perfect_matches.iterrows():\n",
    "            print(f\"\\nOriginal [Rank: {row['original_rank']}]: {row['original_sentence']}\")\n",
    "            print(f\"Variant [Rank: {row['variant_rank']}]: {row['variant_sentence']}\")\n",
    "            print(f\"Similarity: {row['variant_similarity']:.3f}\")\n",
    "\n",
    "        # Display examples with largest rank changes (but only from successful retrievals)\n",
    "        print(\"\\n❌ Examples with largest rank differences (from successful retrievals):\")\n",
    "        worst_matches = results_df[results_df['maintained_in_top_k']].nlargest(3, 'rank_difference')\n",
    "        for _, row in worst_matches.iterrows():\n",
    "            print(f\"\\nOriginal [Rank: {row['original_rank']}]: {row['original_sentence']}\")\n",
    "            print(f\"Variant [Rank: {row['variant_rank']}]: {row['variant_sentence']}\")\n",
    "            print(f\"Original Similarity: {row['original_similarity']:.3f}\")\n",
    "            print(f\"Variant Similarity: {row['variant_similarity']:.3f}\")\n",
    "            print(f\"Rank Change: From {row['original_rank']} to {row['variant_rank']}\")\n",
    "\n",
    "        return metrics, results_df\n",
    "    \n",
    "    def analyze_best_worst_results(self, num_examples=5):\n",
    "        \"\"\"\n",
    "        Analyze best and worst performing search results using self-retrieval\n",
    "        Returns and displays top best and worst matches\n",
    "        \"\"\"\n",
    "        all_results = []\n",
    "        \n",
    "        print(\"Analyzing all videos for best/worst matches...\")\n",
    "        for idx, row in tqdm(self.df.iterrows(), total=len(self.df)):\n",
    "            query = row['sentence']\n",
    "            true_video_id = row['video_id']\n",
    "            \n",
    "            # Get search results without displaying\n",
    "            search_results = self.search(query, top_k=1, display_results=False)\n",
    "            retrieved_video_id = search_results[0]['video_id']\n",
    "            similarity = search_results[0]['similarity']\n",
    "            \n",
    "            all_results.append({\n",
    "                'query': query,\n",
    "                'true_video_id': true_video_id,\n",
    "                'retrieved_video_id': retrieved_video_id,\n",
    "                'similarity': similarity,\n",
    "                'is_correct': true_video_id == retrieved_video_id\n",
    "            })\n",
    "        \n",
    "        results_df = pd.DataFrame(all_results)\n",
    "        \n",
    "        # Get best matches\n",
    "        print(\"\\n🎯 Top Best Matches:\")\n",
    "        best_matches = results_df[results_df['is_correct']].nlargest(num_examples, 'similarity')\n",
    "        for _, row in best_matches.iterrows():\n",
    "            print(f\"\\nSimilarity: {row['similarity']:.3f}\")\n",
    "            video_path = f\"{self.video_base_path}/{row['true_video_id']}.mp4\"\n",
    "            self.display_video_result(row['query'], video_path, row['similarity'])\n",
    "        \n",
    "        # Get worst matches\n",
    "        print(\"\\n❌ Top Worst Matches:\")\n",
    "        worst_matches = results_df[~results_df['is_correct']].nlargest(num_examples, 'similarity')\n",
    "        for _, row in worst_matches.iterrows():\n",
    "            print(f\"\\nQuery (Expected): {row['query']}\")\n",
    "            print(f\"Similarity: {row['similarity']:.3f}\")\n",
    "            \n",
    "            # Display expected video\n",
    "            print(\"\\nExpected Video:\")\n",
    "            video_path = f\"{self.video_base_path}/{row['true_video_id']}.mp4\"\n",
    "            self.display_video_result(row['query'], video_path)\n",
    "            \n",
    "            # Display retrieved video\n",
    "            print(\"\\nRetrieved Video:\")\n",
    "            video_path = f\"{self.video_base_path}/{row['retrieved_video_id']}.mp4\"\n",
    "            retrieved_sentence = self.df[self.df['video_id'] == row['retrieved_video_id']]['sentence'].iloc[0]\n",
    "            self.display_video_result(retrieved_sentence, video_path, row['similarity'])\n",
    "        \n",
    "        return best_matches, worst_matches\n",
    "    def analyze_errors_by_characteristics(self):\n",
    "        \"\"\"\n",
    "        Analyze search errors based on query and video characteristics,\n",
    "        focusing on key relationships and clear conclusions\n",
    "        \"\"\"\n",
    "        error_analysis_results = []\n",
    "\n",
    "        print(\"Analyzing errors across videos...\")\n",
    "        for idx, row in tqdm(self.df.iterrows(), total=len(self.df)):\n",
    "            query = row['sentence']\n",
    "            true_video_id = row['video_id']\n",
    "            video_path = f\"{self.video_base_path}/{true_video_id}.mp4\"\n",
    "\n",
    "            # Get video length\n",
    "            cap = cv2.VideoCapture(video_path)\n",
    "            video_length = int(cap.get(cv2.CAP_PROP_FRAME_COUNT)) / cap.get(cv2.CAP_PROP_FPS)\n",
    "            cap.release()\n",
    "\n",
    "            # Get search results\n",
    "            search_results = self.search(query, top_k=5, display_results=False)\n",
    "            retrieved_video_id = search_results[0]['video_id']\n",
    "            similarity = search_results[0]['similarity']\n",
    "\n",
    "            result = {\n",
    "                'query_length': len(query.split()),\n",
    "                'video_length': video_length,\n",
    "                'similarity': similarity,\n",
    "                'is_correct': true_video_id == retrieved_video_id\n",
    "            }\n",
    "            error_analysis_results.append(result)\n",
    "\n",
    "        results_df = pd.DataFrame(error_analysis_results)\n",
    "\n",
    "        # Create visualizations\n",
    "        fig, axes = plt.subplots(1, 3, figsize=(18, 6))\n",
    "\n",
    "        # 1. Query Length vs Accuracy\n",
    "        sns.boxplot(data=results_df, x='is_correct', y='query_length', ax=axes[0])\n",
    "        axes[0].set_title('Query Length vs Accuracy')\n",
    "        axes[0].set_xlabel('Correct Retrieval')\n",
    "        axes[0].set_ylabel('Query Length (words)')\n",
    "\n",
    "        # 2. Video Length vs Accuracy\n",
    "        sns.boxplot(data=results_df, x='is_correct', y='video_length', ax=axes[1])\n",
    "        axes[1].set_title('Video Length vs Accuracy')\n",
    "        axes[1].set_xlabel('Correct Retrieval')\n",
    "        axes[1].set_ylabel('Video Length (seconds)')\n",
    "\n",
    "        # 3. Similarity Distribution\n",
    "        sns.kdeplot(data=results_df, x='similarity', hue='is_correct', ax=axes[2])\n",
    "        axes[2].set_title('Similarity Score Distribution')\n",
    "        axes[2].set_xlabel('Similarity Score')\n",
    "\n",
    "        plt.tight_layout()\n",
    "        plt.show()\n",
    "\n",
    "        # Calculate key statistics\n",
    "        stats = {\n",
    "            'query_length': {\n",
    "                'correct_mean': results_df[results_df['is_correct']]['query_length'].mean(),\n",
    "                'incorrect_mean': results_df[~results_df['is_correct']]['query_length'].mean(),\n",
    "                'correlation': results_df['query_length'].corr(results_df['is_correct'])\n",
    "            },\n",
    "            'video_length': {\n",
    "                'correct_mean': results_df[results_df['is_correct']]['video_length'].mean(),\n",
    "                'incorrect_mean': results_df[~results_df['is_correct']]['video_length'].mean(),\n",
    "                'correlation': results_df['video_length'].corr(results_df['is_correct'])\n",
    "            },\n",
    "            'similarity': {\n",
    "                'correct_mean': results_df[results_df['is_correct']]['similarity'].mean(),\n",
    "                'incorrect_mean': results_df[~results_df['is_correct']]['similarity'].mean(),\n",
    "                'correlation': results_df['similarity'].corr(results_df['is_correct'])\n",
    "            }\n",
    "        }\n",
    "\n",
    "        return results_df, stats\n",
    "\n",
    "    def error_analysis_report(self, results_df, stats):\n",
    "        \"\"\"\n",
    "        Generate concise error analysis report with clear conclusions\n",
    "        \"\"\"\n",
    "        # Calculate accuracy thresholds\n",
    "        short_queries = results_df['query_length'] <= results_df['query_length'].median()\n",
    "        long_queries = ~short_queries\n",
    "        short_videos = results_df['video_length'] <= results_df['video_length'].median()\n",
    "        long_videos = ~short_videos\n",
    "\n",
    "        conclusions = []\n",
    "\n",
    "        # Query length impact\n",
    "        short_query_acc = results_df[short_queries]['is_correct'].mean()\n",
    "        long_query_acc = results_df[long_queries]['is_correct'].mean()\n",
    "        query_conclusion = \"SHORTER\" if short_query_acc > long_query_acc else \"LONGER\"\n",
    "\n",
    "        # Video length impact\n",
    "        short_video_acc = results_df[short_videos]['is_correct'].mean()\n",
    "        long_video_acc = results_df[long_videos]['is_correct'].mean()\n",
    "        video_conclusion = \"SHORTER\" if short_video_acc > long_video_acc else \"LONGER\"\n",
    "\n",
    "        conclusions.append(\"\\n📊 BOTTOM LINE CONCLUSIONS:\")\n",
    "        conclusions.append(f\"1. Queries: {query_conclusion} queries perform better\")\n",
    "        conclusions.append(f\"   - Short query accuracy: {short_query_acc:.1%}\")\n",
    "        conclusions.append(f\"   - Long query accuracy: {long_query_acc:.1%}\")\n",
    "        conclusions.append(f\"   - Correlation with accuracy: {stats['query_length']['correlation']:.3f}\")\n",
    "\n",
    "        conclusions.append(f\"\\n2. Videos: {video_conclusion} videos perform better\")\n",
    "        conclusions.append(f\"   - Short video accuracy: {short_video_acc:.1%}\")\n",
    "        conclusions.append(f\"   - Long video accuracy: {long_video_acc:.1%}\")\n",
    "        conclusions.append(f\"   - Correlation with accuracy: {stats['video_length']['correlation']:.3f}\")\n",
    "\n",
    "        conclusions.append(\"\\n3. Key Findings:\")\n",
    "        conclusions.append(f\"   - Average similarity for correct matches: {stats['similarity']['correct_mean']:.3f}\")\n",
    "        conclusions.append(f\"   - Average similarity for incorrect matches: {stats['similarity']['incorrect_mean']:.3f}\")\n",
    "        conclusions.append(f\"   - Overall correlation between similarity and accuracy: {stats['similarity']['correlation']:.3f}\")\n",
    "\n",
    "        return \"\\n\".join(conclusions)"
   ]
  },
  {
   "cell_type": "code",
   "execution_count": 10,
   "id": "1141294d-d6a8-4f8c-b55a-23cc67075a76",
   "metadata": {
    "tags": []
   },
   "outputs": [
    {
     "data": {
      "text/html": [
       "<p><b>Caption:</b> a girl wearing red top and black trouser is putting a sweater on a dog</p>"
      ],
      "text/plain": [
       "<IPython.core.display.HTML object>"
      ]
     },
     "metadata": {},
     "output_type": "display_data"
    },
    {
     "data": {
      "text/html": [
       "\n",
       "        <video width=\"600\" controls>\n",
       "          <source src=\"test_1k_compress/video7579.mp4\" type=\"video/mp4\">\n",
       "          Your browser does not support the video tag.\n",
       "        </video>\n",
       "        "
      ],
      "text/plain": [
       "<IPython.core.display.HTML object>"
      ]
     },
     "metadata": {},
     "output_type": "display_data"
    },
    {
     "data": {
      "text/html": [
       "<hr>"
      ],
      "text/plain": [
       "<IPython.core.display.HTML object>"
      ]
     },
     "metadata": {},
     "output_type": "display_data"
    },
    {
     "data": {
      "text/html": [
       "<p><b>Caption:</b> young people sit around the edges of a room clapping and raising their arms while others dance in the center during a party</p>"
      ],
      "text/plain": [
       "<IPython.core.display.HTML object>"
      ]
     },
     "metadata": {},
     "output_type": "display_data"
    },
    {
     "data": {
      "text/html": [
       "\n",
       "        <video width=\"600\" controls>\n",
       "          <source src=\"test_1k_compress/video7725.mp4\" type=\"video/mp4\">\n",
       "          Your browser does not support the video tag.\n",
       "        </video>\n",
       "        "
      ],
      "text/plain": [
       "<IPython.core.display.HTML object>"
      ]
     },
     "metadata": {},
     "output_type": "display_data"
    },
    {
     "data": {
      "text/html": [
       "<hr>"
      ],
      "text/plain": [
       "<IPython.core.display.HTML object>"
      ]
     },
     "metadata": {},
     "output_type": "display_data"
    },
    {
     "data": {
      "text/html": [
       "<p><b>Caption:</b> a person is using a phone</p>"
      ],
      "text/plain": [
       "<IPython.core.display.HTML object>"
      ]
     },
     "metadata": {},
     "output_type": "display_data"
    },
    {
     "data": {
      "text/html": [
       "\n",
       "        <video width=\"600\" controls>\n",
       "          <source src=\"test_1k_compress/video9258.mp4\" type=\"video/mp4\">\n",
       "          Your browser does not support the video tag.\n",
       "        </video>\n",
       "        "
      ],
      "text/plain": [
       "<IPython.core.display.HTML object>"
      ]
     },
     "metadata": {},
     "output_type": "display_data"
    },
    {
     "data": {
      "text/html": [
       "<hr>"
      ],
      "text/plain": [
       "<IPython.core.display.HTML object>"
      ]
     },
     "metadata": {},
     "output_type": "display_data"
    }
   ],
   "source": [
    "video_dataset = VideoDataset(data)\n",
    "\n",
    "# Display some random examples\n",
    "video_dataset.display_random_examples(num_examples=3)"
   ]
  },
  {
   "cell_type": "markdown",
   "id": "1ff48b3c-f266-461f-8b00-3331b1115958",
   "metadata": {},
   "source": [
    "## Free Text Search"
   ]
  },
  {
   "cell_type": "code",
   "execution_count": 11,
   "id": "758aa562-d9fd-46af-869e-c9597d99bf75",
   "metadata": {
    "tags": []
   },
   "outputs": [
    {
     "name": "stdout",
     "output_type": "stream",
     "text": [
      "Computing video embeddings first...\n"
     ]
    },
    {
     "name": "stderr",
     "output_type": "stream",
     "text": [
      "100%|██████████| 1000/1000 [01:46<00:00,  9.38it/s]\n"
     ]
    },
    {
     "data": {
      "text/html": [
       "<p><b>Caption:</b> a guy chops up garlic and pours it over chicken frying in a pan (Similarity: 0.328)</p>"
      ],
      "text/plain": [
       "<IPython.core.display.HTML object>"
      ]
     },
     "metadata": {},
     "output_type": "display_data"
    },
    {
     "data": {
      "text/html": [
       "\n",
       "        <video width=\"600\" controls>\n",
       "          <source src=\"test_1k_compress/video7799.mp4\" type=\"video/mp4\">\n",
       "          Your browser does not support the video tag.\n",
       "        </video>\n",
       "        "
      ],
      "text/plain": [
       "<IPython.core.display.HTML object>"
      ]
     },
     "metadata": {},
     "output_type": "display_data"
    },
    {
     "data": {
      "text/html": [
       "<hr>"
      ],
      "text/plain": [
       "<IPython.core.display.HTML object>"
      ]
     },
     "metadata": {},
     "output_type": "display_data"
    },
    {
     "data": {
      "text/html": [
       "<p><b>Caption:</b> the chef adds fish sauce and fish paste to a large stainless steel cooking pot (Similarity: 0.324)</p>"
      ],
      "text/plain": [
       "<IPython.core.display.HTML object>"
      ]
     },
     "metadata": {},
     "output_type": "display_data"
    },
    {
     "data": {
      "text/html": [
       "\n",
       "        <video width=\"600\" controls>\n",
       "          <source src=\"test_1k_compress/video9693.mp4\" type=\"video/mp4\">\n",
       "          Your browser does not support the video tag.\n",
       "        </video>\n",
       "        "
      ],
      "text/plain": [
       "<IPython.core.display.HTML object>"
      ]
     },
     "metadata": {},
     "output_type": "display_data"
    },
    {
     "data": {
      "text/html": [
       "<hr>"
      ],
      "text/plain": [
       "<IPython.core.display.HTML object>"
      ]
     },
     "metadata": {},
     "output_type": "display_data"
    },
    {
     "data": {
      "text/html": [
       "<p><b>Caption:</b> a person is preparing some food (Similarity: 0.318)</p>"
      ],
      "text/plain": [
       "<IPython.core.display.HTML object>"
      ]
     },
     "metadata": {},
     "output_type": "display_data"
    },
    {
     "data": {
      "text/html": [
       "\n",
       "        <video width=\"600\" controls>\n",
       "          <source src=\"test_1k_compress/video9038.mp4\" type=\"video/mp4\">\n",
       "          Your browser does not support the video tag.\n",
       "        </video>\n",
       "        "
      ],
      "text/plain": [
       "<IPython.core.display.HTML object>"
      ]
     },
     "metadata": {},
     "output_type": "display_data"
    },
    {
     "data": {
      "text/html": [
       "<hr>"
      ],
      "text/plain": [
       "<IPython.core.display.HTML object>"
      ]
     },
     "metadata": {},
     "output_type": "display_data"
    },
    {
     "data": {
      "text/html": [
       "<p><b>Caption:</b> a man cooks some food in a kitchen (Similarity: 0.314)</p>"
      ],
      "text/plain": [
       "<IPython.core.display.HTML object>"
      ]
     },
     "metadata": {},
     "output_type": "display_data"
    },
    {
     "data": {
      "text/html": [
       "\n",
       "        <video width=\"600\" controls>\n",
       "          <source src=\"test_1k_compress/video8325.mp4\" type=\"video/mp4\">\n",
       "          Your browser does not support the video tag.\n",
       "        </video>\n",
       "        "
      ],
      "text/plain": [
       "<IPython.core.display.HTML object>"
      ]
     },
     "metadata": {},
     "output_type": "display_data"
    },
    {
     "data": {
      "text/html": [
       "<hr>"
      ],
      "text/plain": [
       "<IPython.core.display.HTML object>"
      ]
     },
     "metadata": {},
     "output_type": "display_data"
    },
    {
     "data": {
      "text/html": [
       "<p><b>Caption:</b> a woman is making a recipe in a sauce pan (Similarity: 0.313)</p>"
      ],
      "text/plain": [
       "<IPython.core.display.HTML object>"
      ]
     },
     "metadata": {},
     "output_type": "display_data"
    },
    {
     "data": {
      "text/html": [
       "\n",
       "        <video width=\"600\" controls>\n",
       "          <source src=\"test_1k_compress/video7911.mp4\" type=\"video/mp4\">\n",
       "          Your browser does not support the video tag.\n",
       "        </video>\n",
       "        "
      ],
      "text/plain": [
       "<IPython.core.display.HTML object>"
      ]
     },
     "metadata": {},
     "output_type": "display_data"
    },
    {
     "data": {
      "text/html": [
       "<hr>"
      ],
      "text/plain": [
       "<IPython.core.display.HTML object>"
      ]
     },
     "metadata": {},
     "output_type": "display_data"
    },
    {
     "data": {
      "text/plain": [
       "[{'video_id': 'video7799',\n",
       "  'sentence': 'a guy chops up garlic and pours it over chicken frying in a pan',\n",
       "  'similarity': 0.32813810748344985},\n",
       " {'video_id': 'video9693',\n",
       "  'sentence': 'the chef adds fish sauce and fish paste to a large stainless steel cooking pot',\n",
       "  'similarity': 0.32369178799849646},\n",
       " {'video_id': 'video9038',\n",
       "  'sentence': 'a person is preparing some food',\n",
       "  'similarity': 0.31827124177187527},\n",
       " {'video_id': 'video8325',\n",
       "  'sentence': 'a man cooks some food in a kitchen',\n",
       "  'similarity': 0.3143684495208409},\n",
       " {'video_id': 'video7911',\n",
       "  'sentence': 'a woman is making a recipe in a sauce pan',\n",
       "  'similarity': 0.3130432528109044}]"
      ]
     },
     "execution_count": 11,
     "metadata": {},
     "output_type": "execute_result"
    }
   ],
   "source": [
    "# Search with a text query \n",
    "video_dataset.search(\"a person cooking in the kitchen\", top_k=5)"
   ]
  },
  {
   "cell_type": "markdown",
   "id": "119e9a69-4758-4a49-956c-85b715d34482",
   "metadata": {
    "jp-MarkdownHeadingCollapsed": true,
    "tags": []
   },
   "source": [
    "## Evaluation"
   ]
  },
  {
   "cell_type": "markdown",
   "id": "5c080234-7ba9-44d0-977e-aa591b0fe49e",
   "metadata": {},
   "source": [
    "**Evaluation of Video Search System**\n",
    "\n",
    "To evaluate our video retrieval system, we test it on random queries from our dataset. The evaluation process:\n",
    "\n",
    "1. Randomly sample 100 video descriptions as test queries\n",
    "2. For each query:\n",
    "  - Use the original video description as search query\n",
    "  - Check if the system retrieves the correct video in top-k results\n",
    "  - Measure the similarity score and ranking position\n",
    "\n",
    "**The metrics include:**\n",
    "- `top1_accuracy`: Percentage of queries where correct video is the first result\n",
    "- `top5_accuracy`: Percentage of queries where correct video is in top 5 results  \n",
    "- `top10_accuracy`: Percentage of queries where correct video is in top 10 results\n",
    "- `mean_similarity`: Average similarity score across all queries\n",
    "- `median_rank`: Median position of correct video in results\n",
    "\n",
    "This provides a quantitative assessment of our system's retrieval performance. Higher accuracy scores and lower median rank indicate better search quality.\n",
    "\n",
    "Additionally, we analyze robustness by testing variations of the same query and measuring how consistent the results are. This helps understand how well the system handles different ways of describing the same video content."
   ]
  },
  {
   "cell_type": "code",
   "execution_count": 12,
   "id": "5da32562-2cdd-4269-b632-06195f70808f",
   "metadata": {
    "tags": []
   },
   "outputs": [
    {
     "name": "stdout",
     "output_type": "stream",
     "text": [
      "Evaluation Results:\n",
      "top1_accuracy: 0.320\n",
      "top5_accuracy: 0.530\n",
      "top10_accuracy: 0.630\n",
      "mean_similarity: 0.317\n",
      "median_rank: 1.000\n"
     ]
    }
   ],
   "source": [
    "# Evaluate using random test queries\n",
    "metrics, detailed_results = video_dataset.evaluate_search(num_test_queries=100)\n",
    "\n",
    "print(\"Evaluation Results:\")\n",
    "for metric, value in metrics.items():\n",
    "    print(f\"{metric}: {value:.3f}\")"
   ]
  },
  {
   "cell_type": "markdown",
   "id": "c6c36d6d-6abd-4edf-bb9c-542673d13c6f",
   "metadata": {
    "tags": []
   },
   "source": [
    "## Error Analysis"
   ]
  },
  {
   "cell_type": "markdown",
   "id": "616e0b6a-1b9c-43da-b755-4f08041150fb",
   "metadata": {
    "tags": []
   },
   "source": [
    "**Analysis of Best and Worst Matches**\n",
    "\n",
    "To better understand our system's strengths and weaknesses, we analyze the extreme cases - both successful and failed retrievals:\n",
    "\n",
    "1. **Best Matches (num_examples=5)**\n",
    "  - Cases where the correct video was retrieved with highest similarity scores\n",
    "  - Shows pairs of queries and videos where CLIP embeddings work exceptionally well\n",
    "  - Helps identify what types of content and descriptions are most reliably matched\n",
    "\n",
    "2. **Worst Matches (num_examples=5)**\n",
    "  - Cases where either:\n",
    "    * The wrong video was retrieved with high confidence\n",
    "    * The correct video was ranked much lower despite similar content\n",
    "  - For each case, displays:\n",
    "    * Original query and expected video\n",
    "    * Retrieved video and its similarity score\n",
    "    * The rank difference and similarity scores\n",
    "\n",
    "This analysis helps us:\n",
    "- Identify patterns in successful matches\n",
    "- Understand types of queries that confuse the system\n",
    "- Find potential improvements for handling challenging cases\n",
    "- Better understand CLIP's strengths and limitations in video search"
   ]
  },
  {
   "cell_type": "code",
   "execution_count": 13,
   "id": "c9dccc3d-ee5c-4117-a615-e271b37a503d",
   "metadata": {
    "tags": []
   },
   "outputs": [
    {
     "name": "stdout",
     "output_type": "stream",
     "text": [
      "Analyzing all videos for best/worst matches...\n"
     ]
    },
    {
     "name": "stderr",
     "output_type": "stream",
     "text": [
      "100%|██████████| 1000/1000 [00:33<00:00, 30.15it/s]"
     ]
    },
    {
     "name": "stdout",
     "output_type": "stream",
     "text": [
      "\n",
      "🎯 Top Best Matches:\n",
      "\n",
      "Similarity: 0.418\n"
     ]
    },
    {
     "name": "stderr",
     "output_type": "stream",
     "text": [
      "\n"
     ]
    },
    {
     "data": {
      "text/html": [
       "<p><b>Caption:</b> a commercial for the website called eharmony (Similarity: 0.418)</p>"
      ],
      "text/plain": [
       "<IPython.core.display.HTML object>"
      ]
     },
     "metadata": {},
     "output_type": "display_data"
    },
    {
     "data": {
      "text/html": [
       "\n",
       "        <video width=\"600\" controls>\n",
       "          <source src=\"test_1k_compress/video9607.mp4\" type=\"video/mp4\">\n",
       "          Your browser does not support the video tag.\n",
       "        </video>\n",
       "        "
      ],
      "text/plain": [
       "<IPython.core.display.HTML object>"
      ]
     },
     "metadata": {},
     "output_type": "display_data"
    },
    {
     "data": {
      "text/html": [
       "<hr>"
      ],
      "text/plain": [
       "<IPython.core.display.HTML object>"
      ]
     },
     "metadata": {},
     "output_type": "display_data"
    },
    {
     "name": "stdout",
     "output_type": "stream",
     "text": [
      "\n",
      "Similarity: 0.378\n"
     ]
    },
    {
     "data": {
      "text/html": [
       "<p><b>Caption:</b> a girl is painting easter designs on nails (Similarity: 0.378)</p>"
      ],
      "text/plain": [
       "<IPython.core.display.HTML object>"
      ]
     },
     "metadata": {},
     "output_type": "display_data"
    },
    {
     "data": {
      "text/html": [
       "\n",
       "        <video width=\"600\" controls>\n",
       "          <source src=\"test_1k_compress/video9220.mp4\" type=\"video/mp4\">\n",
       "          Your browser does not support the video tag.\n",
       "        </video>\n",
       "        "
      ],
      "text/plain": [
       "<IPython.core.display.HTML object>"
      ]
     },
     "metadata": {},
     "output_type": "display_data"
    },
    {
     "data": {
      "text/html": [
       "<hr>"
      ],
      "text/plain": [
       "<IPython.core.display.HTML object>"
      ]
     },
     "metadata": {},
     "output_type": "display_data"
    },
    {
     "name": "stdout",
     "output_type": "stream",
     "text": [
      "\n",
      "Similarity: 0.376\n"
     ]
    },
    {
     "data": {
      "text/html": [
       "<p><b>Caption:</b> the opeing credit to gullah grub authentic cooking (Similarity: 0.376)</p>"
      ],
      "text/plain": [
       "<IPython.core.display.HTML object>"
      ]
     },
     "metadata": {},
     "output_type": "display_data"
    },
    {
     "data": {
      "text/html": [
       "\n",
       "        <video width=\"600\" controls>\n",
       "          <source src=\"test_1k_compress/video8025.mp4\" type=\"video/mp4\">\n",
       "          Your browser does not support the video tag.\n",
       "        </video>\n",
       "        "
      ],
      "text/plain": [
       "<IPython.core.display.HTML object>"
      ]
     },
     "metadata": {},
     "output_type": "display_data"
    },
    {
     "data": {
      "text/html": [
       "<hr>"
      ],
      "text/plain": [
       "<IPython.core.display.HTML object>"
      ]
     },
     "metadata": {},
     "output_type": "display_data"
    },
    {
     "name": "stdout",
     "output_type": "stream",
     "text": [
      "\n",
      "Similarity: 0.374\n"
     ]
    },
    {
     "data": {
      "text/html": [
       "<p><b>Caption:</b> a commercial for the mazda 3 the card sliding around a corner (Similarity: 0.374)</p>"
      ],
      "text/plain": [
       "<IPython.core.display.HTML object>"
      ]
     },
     "metadata": {},
     "output_type": "display_data"
    },
    {
     "data": {
      "text/html": [
       "\n",
       "        <video width=\"600\" controls>\n",
       "          <source src=\"test_1k_compress/video9691.mp4\" type=\"video/mp4\">\n",
       "          Your browser does not support the video tag.\n",
       "        </video>\n",
       "        "
      ],
      "text/plain": [
       "<IPython.core.display.HTML object>"
      ]
     },
     "metadata": {},
     "output_type": "display_data"
    },
    {
     "data": {
      "text/html": [
       "<hr>"
      ],
      "text/plain": [
       "<IPython.core.display.HTML object>"
      ]
     },
     "metadata": {},
     "output_type": "display_data"
    },
    {
     "name": "stdout",
     "output_type": "stream",
     "text": [
      "\n",
      "Similarity: 0.373\n"
     ]
    },
    {
     "data": {
      "text/html": [
       "<p><b>Caption:</b> a little girl does gymnastics (Similarity: 0.373)</p>"
      ],
      "text/plain": [
       "<IPython.core.display.HTML object>"
      ]
     },
     "metadata": {},
     "output_type": "display_data"
    },
    {
     "data": {
      "text/html": [
       "\n",
       "        <video width=\"600\" controls>\n",
       "          <source src=\"test_1k_compress/video9771.mp4\" type=\"video/mp4\">\n",
       "          Your browser does not support the video tag.\n",
       "        </video>\n",
       "        "
      ],
      "text/plain": [
       "<IPython.core.display.HTML object>"
      ]
     },
     "metadata": {},
     "output_type": "display_data"
    },
    {
     "data": {
      "text/html": [
       "<hr>"
      ],
      "text/plain": [
       "<IPython.core.display.HTML object>"
      ]
     },
     "metadata": {},
     "output_type": "display_data"
    },
    {
     "name": "stdout",
     "output_type": "stream",
     "text": [
      "\n",
      "❌ Top Worst Matches:\n",
      "\n",
      "Query (Expected): this is a vine sports compilation\n",
      "Similarity: 0.396\n",
      "\n",
      "Expected Video:\n"
     ]
    },
    {
     "data": {
      "text/html": [
       "<p><b>Caption:</b> this is a vine sports compilation</p>"
      ],
      "text/plain": [
       "<IPython.core.display.HTML object>"
      ]
     },
     "metadata": {},
     "output_type": "display_data"
    },
    {
     "data": {
      "text/html": [
       "\n",
       "        <video width=\"600\" controls>\n",
       "          <source src=\"test_1k_compress/video7839.mp4\" type=\"video/mp4\">\n",
       "          Your browser does not support the video tag.\n",
       "        </video>\n",
       "        "
      ],
      "text/plain": [
       "<IPython.core.display.HTML object>"
      ]
     },
     "metadata": {},
     "output_type": "display_data"
    },
    {
     "data": {
      "text/html": [
       "<hr>"
      ],
      "text/plain": [
       "<IPython.core.display.HTML object>"
      ]
     },
     "metadata": {},
     "output_type": "display_data"
    },
    {
     "name": "stdout",
     "output_type": "stream",
     "text": [
      "\n",
      "Retrieved Video:\n"
     ]
    },
    {
     "data": {
      "text/html": [
       "<p><b>Caption:</b> sports vine clips of basketball (Similarity: 0.396)</p>"
      ],
      "text/plain": [
       "<IPython.core.display.HTML object>"
      ]
     },
     "metadata": {},
     "output_type": "display_data"
    },
    {
     "data": {
      "text/html": [
       "\n",
       "        <video width=\"600\" controls>\n",
       "          <source src=\"test_1k_compress/video8979.mp4\" type=\"video/mp4\">\n",
       "          Your browser does not support the video tag.\n",
       "        </video>\n",
       "        "
      ],
      "text/plain": [
       "<IPython.core.display.HTML object>"
      ]
     },
     "metadata": {},
     "output_type": "display_data"
    },
    {
     "data": {
      "text/html": [
       "<hr>"
      ],
      "text/plain": [
       "<IPython.core.display.HTML object>"
      ]
     },
     "metadata": {},
     "output_type": "display_data"
    },
    {
     "name": "stdout",
     "output_type": "stream",
     "text": [
      "\n",
      "Query (Expected): a guy barbequeing potatoes\n",
      "Similarity: 0.385\n",
      "\n",
      "Expected Video:\n"
     ]
    },
    {
     "data": {
      "text/html": [
       "<p><b>Caption:</b> a guy barbequeing potatoes</p>"
      ],
      "text/plain": [
       "<IPython.core.display.HTML object>"
      ]
     },
     "metadata": {},
     "output_type": "display_data"
    },
    {
     "data": {
      "text/html": [
       "\n",
       "        <video width=\"600\" controls>\n",
       "          <source src=\"test_1k_compress/video9694.mp4\" type=\"video/mp4\">\n",
       "          Your browser does not support the video tag.\n",
       "        </video>\n",
       "        "
      ],
      "text/plain": [
       "<IPython.core.display.HTML object>"
      ]
     },
     "metadata": {},
     "output_type": "display_data"
    },
    {
     "data": {
      "text/html": [
       "<hr>"
      ],
      "text/plain": [
       "<IPython.core.display.HTML object>"
      ]
     },
     "metadata": {},
     "output_type": "display_data"
    },
    {
     "name": "stdout",
     "output_type": "stream",
     "text": [
      "\n",
      "Retrieved Video:\n"
     ]
    },
    {
     "data": {
      "text/html": [
       "<p><b>Caption:</b> barbecued cheese bacon burgers showcased (Similarity: 0.385)</p>"
      ],
      "text/plain": [
       "<IPython.core.display.HTML object>"
      ]
     },
     "metadata": {},
     "output_type": "display_data"
    },
    {
     "data": {
      "text/html": [
       "\n",
       "        <video width=\"600\" controls>\n",
       "          <source src=\"test_1k_compress/video9333.mp4\" type=\"video/mp4\">\n",
       "          Your browser does not support the video tag.\n",
       "        </video>\n",
       "        "
      ],
      "text/plain": [
       "<IPython.core.display.HTML object>"
      ]
     },
     "metadata": {},
     "output_type": "display_data"
    },
    {
     "data": {
      "text/html": [
       "<hr>"
      ],
      "text/plain": [
       "<IPython.core.display.HTML object>"
      ]
     },
     "metadata": {},
     "output_type": "display_data"
    },
    {
     "name": "stdout",
     "output_type": "stream",
     "text": [
      "\n",
      "Query (Expected): a video showing footage from sporting events\n",
      "Similarity: 0.370\n",
      "\n",
      "Expected Video:\n"
     ]
    },
    {
     "data": {
      "text/html": [
       "<p><b>Caption:</b> a video showing footage from sporting events</p>"
      ],
      "text/plain": [
       "<IPython.core.display.HTML object>"
      ]
     },
     "metadata": {},
     "output_type": "display_data"
    },
    {
     "data": {
      "text/html": [
       "\n",
       "        <video width=\"600\" controls>\n",
       "          <source src=\"test_1k_compress/video8013.mp4\" type=\"video/mp4\">\n",
       "          Your browser does not support the video tag.\n",
       "        </video>\n",
       "        "
      ],
      "text/plain": [
       "<IPython.core.display.HTML object>"
      ]
     },
     "metadata": {},
     "output_type": "display_data"
    },
    {
     "data": {
      "text/html": [
       "<hr>"
      ],
      "text/plain": [
       "<IPython.core.display.HTML object>"
      ]
     },
     "metadata": {},
     "output_type": "display_data"
    },
    {
     "name": "stdout",
     "output_type": "stream",
     "text": [
      "\n",
      "Retrieved Video:\n"
     ]
    },
    {
     "data": {
      "text/html": [
       "<p><b>Caption:</b> sports vine clips of basketball (Similarity: 0.370)</p>"
      ],
      "text/plain": [
       "<IPython.core.display.HTML object>"
      ]
     },
     "metadata": {},
     "output_type": "display_data"
    },
    {
     "data": {
      "text/html": [
       "\n",
       "        <video width=\"600\" controls>\n",
       "          <source src=\"test_1k_compress/video8979.mp4\" type=\"video/mp4\">\n",
       "          Your browser does not support the video tag.\n",
       "        </video>\n",
       "        "
      ],
      "text/plain": [
       "<IPython.core.display.HTML object>"
      ]
     },
     "metadata": {},
     "output_type": "display_data"
    },
    {
     "data": {
      "text/html": [
       "<hr>"
      ],
      "text/plain": [
       "<IPython.core.display.HTML object>"
      ]
     },
     "metadata": {},
     "output_type": "display_data"
    },
    {
     "name": "stdout",
     "output_type": "stream",
     "text": [
      "\n",
      "Query (Expected): a woman is making playdoh\n",
      "Similarity: 0.365\n",
      "\n",
      "Expected Video:\n"
     ]
    },
    {
     "data": {
      "text/html": [
       "<p><b>Caption:</b> a woman is making playdoh</p>"
      ],
      "text/plain": [
       "<IPython.core.display.HTML object>"
      ]
     },
     "metadata": {},
     "output_type": "display_data"
    },
    {
     "data": {
      "text/html": [
       "\n",
       "        <video width=\"600\" controls>\n",
       "          <source src=\"test_1k_compress/video9256.mp4\" type=\"video/mp4\">\n",
       "          Your browser does not support the video tag.\n",
       "        </video>\n",
       "        "
      ],
      "text/plain": [
       "<IPython.core.display.HTML object>"
      ]
     },
     "metadata": {},
     "output_type": "display_data"
    },
    {
     "data": {
      "text/html": [
       "<hr>"
      ],
      "text/plain": [
       "<IPython.core.display.HTML object>"
      ]
     },
     "metadata": {},
     "output_type": "display_data"
    },
    {
     "name": "stdout",
     "output_type": "stream",
     "text": [
      "\n",
      "Retrieved Video:\n"
     ]
    },
    {
     "data": {
      "text/html": [
       "<p><b>Caption:</b> a woman is mixing nailpolish and putting an egg into it (Similarity: 0.365)</p>"
      ],
      "text/plain": [
       "<IPython.core.display.HTML object>"
      ]
     },
     "metadata": {},
     "output_type": "display_data"
    },
    {
     "data": {
      "text/html": [
       "\n",
       "        <video width=\"600\" controls>\n",
       "          <source src=\"test_1k_compress/video7173.mp4\" type=\"video/mp4\">\n",
       "          Your browser does not support the video tag.\n",
       "        </video>\n",
       "        "
      ],
      "text/plain": [
       "<IPython.core.display.HTML object>"
      ]
     },
     "metadata": {},
     "output_type": "display_data"
    },
    {
     "data": {
      "text/html": [
       "<hr>"
      ],
      "text/plain": [
       "<IPython.core.display.HTML object>"
      ]
     },
     "metadata": {},
     "output_type": "display_data"
    },
    {
     "name": "stdout",
     "output_type": "stream",
     "text": [
      "\n",
      "Query (Expected): different women in colorful clothing are walking down a runway for a fashion show\n",
      "Similarity: 0.364\n",
      "\n",
      "Expected Video:\n"
     ]
    },
    {
     "data": {
      "text/html": [
       "<p><b>Caption:</b> different women in colorful clothing are walking down a runway for a fashion show</p>"
      ],
      "text/plain": [
       "<IPython.core.display.HTML object>"
      ]
     },
     "metadata": {},
     "output_type": "display_data"
    },
    {
     "data": {
      "text/html": [
       "\n",
       "        <video width=\"600\" controls>\n",
       "          <source src=\"test_1k_compress/video7730.mp4\" type=\"video/mp4\">\n",
       "          Your browser does not support the video tag.\n",
       "        </video>\n",
       "        "
      ],
      "text/plain": [
       "<IPython.core.display.HTML object>"
      ]
     },
     "metadata": {},
     "output_type": "display_data"
    },
    {
     "data": {
      "text/html": [
       "<hr>"
      ],
      "text/plain": [
       "<IPython.core.display.HTML object>"
      ]
     },
     "metadata": {},
     "output_type": "display_data"
    },
    {
     "name": "stdout",
     "output_type": "stream",
     "text": [
      "\n",
      "Retrieved Video:\n"
     ]
    },
    {
     "data": {
      "text/html": [
       "<p><b>Caption:</b> three woman doing a fashion show to music (Similarity: 0.364)</p>"
      ],
      "text/plain": [
       "<IPython.core.display.HTML object>"
      ]
     },
     "metadata": {},
     "output_type": "display_data"
    },
    {
     "data": {
      "text/html": [
       "\n",
       "        <video width=\"600\" controls>\n",
       "          <source src=\"test_1k_compress/video7669.mp4\" type=\"video/mp4\">\n",
       "          Your browser does not support the video tag.\n",
       "        </video>\n",
       "        "
      ],
      "text/plain": [
       "<IPython.core.display.HTML object>"
      ]
     },
     "metadata": {},
     "output_type": "display_data"
    },
    {
     "data": {
      "text/html": [
       "<hr>"
      ],
      "text/plain": [
       "<IPython.core.display.HTML object>"
      ]
     },
     "metadata": {},
     "output_type": "display_data"
    }
   ],
   "source": [
    "# Find and display best and worst performing searches\n",
    "best_matches, worst_matches = video_dataset.analyze_best_worst_results(num_examples=5)"
   ]
  },
  {
   "cell_type": "markdown",
   "id": "d1c2a81c-da4d-414d-87d9-a529d80965a7",
   "metadata": {
    "tags": []
   },
   "source": [
    "**Error Analysis and Characteristics Impact**\n",
    "\n",
    "Comprehensive analysis of how different characteristics affect search performance:\n",
    "\n",
    "1. **Query Analysis**\n",
    "  - Studies relationship between query length and search accuracy\n",
    "  - Determines if shorter/longer descriptions lead to better results\n",
    "  - Measures correlation between query characteristics and success rate\n",
    "\n",
    "2. **Video Analysis**\n",
    "  - Examines impact of video length on retrieval accuracy\n",
    "  - Looks for patterns in successful vs. unsuccessful retrievals\n",
    "  - Helps understand if longer/shorter videos are harder to match\n",
    "\n",
    "The report provides:\n",
    "- Statistical correlations between characteristics and accuracy\n",
    "- Clear conclusions about what works better (shorter vs. longer content)\n",
    "- Accuracy percentages for different content categories\n",
    "- Similarity score distributions for successful and failed matches\n",
    "\n",
    "**Bottom Line Metrics:**\n",
    "- Query length impact (correlation with accuracy)\n",
    "- Video length impact (correlation with accuracy)\n",
    "- Average similarity scores for correct vs. incorrect matches\n",
    "- Overall trends in how content characteristics affect performance\n",
    "\n",
    "This helps identify optimal conditions for the search system and guides improvements for handling challenging cases."
   ]
  },
  {
   "cell_type": "code",
   "execution_count": 14,
   "id": "ac0e1a0f-6bd6-4b51-b2c1-3e5ca9bbfff0",
   "metadata": {},
   "outputs": [
    {
     "name": "stdout",
     "output_type": "stream",
     "text": [
      "Analyzing errors across videos...\n"
     ]
    },
    {
     "name": "stderr",
     "output_type": "stream",
     "text": [
      "100%|██████████| 1000/1000 [00:54<00:00, 18.39it/s]\n"
     ]
    },
    {
     "data": {
      "image/png": "[encoded data removed]",
      "text/plain": [
       "<Figure size 1800x600 with 3 Axes>"
      ]
     },
     "metadata": {},
     "output_type": "display_data"
    },
    {
     "name": "stdout",
     "output_type": "stream",
     "text": [
      "\n",
      "📊 BOTTOM LINE CONCLUSIONS:\n",
      "1. Queries: LONGER queries perform better\n",
      "   - Short query accuracy: 26.3%\n",
      "   - Long query accuracy: 38.2%\n",
      "   - Correlation with accuracy: 0.148\n",
      "\n",
      "2. Videos: LONGER videos perform better\n",
      "   - Short video accuracy: 28.2%\n",
      "   - Long video accuracy: 34.5%\n",
      "   - Correlation with accuracy: 0.064\n",
      "\n",
      "3. Key Findings:\n",
      "   - Average similarity for correct matches: 0.322\n",
      "   - Average similarity for incorrect matches: 0.311\n",
      "   - Overall correlation between similarity and accuracy: 0.235\n"
     ]
    }
   ],
   "source": [
    "# Run comprehensive error analysis\n",
    "results_df, stats = video_dataset.analyze_errors_by_characteristics()\n",
    "\n",
    "# Generate and print detailed report\n",
    "report = video_dataset.error_analysis_report(results_df, stats)\n",
    "print(report)"
   ]
  },
  {
   "cell_type": "markdown",
   "id": "062eb3c8-b47c-475f-92de-96a4a6b8f941",
   "metadata": {
    "tags": []
   },
   "source": [
    "## Robustness"
   ]
  },
  {
   "cell_type": "markdown",
   "id": "d021eeff-c62a-4859-bc93-c52eb3ce3ce3",
   "metadata": {},
   "source": [
    "**Robustness Evaluation using Query Variations**\n",
    "\n",
    "Testing how well our system handles different ways of describing the same video content:\n",
    "\n",
    "1. **Process**:\n",
    "  - Sample 50 videos from dataset\n",
    "  - For each video's description:\n",
    "    * Generate 3 alternative descriptions using LLM\n",
    "    * Keep same meaning but vary word choice and structure\n",
    "    * Run search with each variation\n",
    "  - Compare results across original and variant queries\n",
    "\n",
    "2. **We Measure**:\n",
    "  - If correct video stays in top-k results across variations\n",
    "  - How much ranking position changes\n",
    "  - Changes in similarity scores\n",
    "  - Consistency of results\n",
    "\n",
    "**Key Metrics:**\n",
    "- `maintained_in_top_k_ratio`: How often video stays in top results\n",
    "- `mean_rank_difference`: Average change in ranking position\n",
    "- `perfect_maintenance_ratio`: How often exact rank is preserved\n",
    "- `similarity_correlation`: Consistency of similarity scores\n",
    "- `avg_similarity_drop`: How much scores typically change\n",
    "\n",
    "This helps understand system reliability when users phrase queries differently but mean the same thing."
   ]
  },
  {
   "cell_type": "code",
   "execution_count": 15,
   "id": "b57f4508-1917-4472-ace1-b26e76d861d7",
   "metadata": {
    "tags": []
   },
   "outputs": [
    {
     "name": "stderr",
     "output_type": "stream",
     "text": [
      "100%|██████████| 50/50 [00:26<00:00,  1.89it/s]\n"
     ]
    },
    {
     "data": {
      "image/png": "[encoded data removed]",
      "text/plain": [
       "<Figure size 1500x500 with 3 Axes>"
      ]
     },
     "metadata": {},
     "output_type": "display_data"
    },
    {
     "name": "stdout",
     "output_type": "stream",
     "text": [
      "\n",
      "🎯 Examples where ranking was perfectly maintained:\n",
      "\n",
      "Original [Rank: 1]: an animated micky is driving a car\n",
      "Variant [Rank: 1]: A vibrant Mickey takes the wheel of a speedy automobile\n",
      "Similarity: 0.309\n",
      "\n",
      "Original [Rank: 1]: a young girl petting a dog that is laying on a couch\n",
      "Variant [Rank: 1]: A gentle child strokes the fur of a canine reclining on a plush sofa.\n",
      "Similarity: 0.271\n",
      "\n",
      "Original [Rank: 1]: a person folds a paper airplane\n",
      "Variant [Rank: 1]: Crafts a miniature aeroplane from a sheet of paper\n",
      "Similarity: 0.318\n",
      "\n",
      "❌ Examples with largest rank differences (from successful retrievals):\n",
      "\n",
      "Original [Rank: 1]: two mermaid with red hair is sitting on a rock\n",
      "Variant [Rank: 4]: A pair of fiery-tressed sea maidens lounged on a granite throne\n",
      "Original Similarity: 0.319\n",
      "Variant Similarity: 0.248\n",
      "Rank Change: From 1 to 4\n",
      "\n",
      "Original [Rank: 4]: a woman on her way out the door gets a call from a man standing in a store\n",
      "Variant [Rank: 1]: As she's about to exit, her phone rings with an unknown number\n",
      "Original Similarity: 0.315\n",
      "Variant Similarity: 0.291\n",
      "Rank Change: From 4 to 1\n",
      "\n",
      "Original [Rank: 1]: athletes are getting ready and start running for an event\n",
      "Variant [Rank: 4]: Runners gear up and burst forth with swift strides.\n",
      "Original Similarity: 0.277\n",
      "Variant Similarity: 0.262\n",
      "Rank Change: From 1 to 4\n",
      "\n",
      "Robustness Metrics:\n",
      "total_successful_queries: 81.000\n",
      "maintained_in_top_k_ratio: 0.630\n",
      "mean_rank_difference: 1.840\n",
      "perfect_maintenance_ratio: 0.309\n",
      "similarity_correlation: 0.531\n",
      "avg_similarity_drop: -0.030\n"
     ]
    }
   ],
   "source": [
    "import requests\n",
    "import json\n",
    "# Test system robustness using sentence variations\n",
    "robustness_metrics, detailed_results = video_dataset.evaluate_robustness(\n",
    "    num_samples=50,  # Number of videos to test\n",
    "    num_variants=3,  # Number of variations per sentence\n",
    "    top_k=5         # Consider top-k results\n",
    ")\n",
    "\n",
    "print(\"\\nRobustness Metrics:\")\n",
    "for metric, value in robustness_metrics.items():\n",
    "    print(f\"{metric}: {value:.3f}\")"
   ]
  },
  {
   "cell_type": "markdown",
   "id": "05913bf4-a4d4-467e-8fec-420757b3214d",
   "metadata": {},
   "source": [
    "# Additional Thoughts"
   ]
  },
  {
   "cell_type": "markdown",
   "id": "1aa91b84-58be-4a36-a37f-5e89011380e7",
   "metadata": {
    "tags": []
   },
   "source": [
    "**There's significant room to improve the current system. Key areas for enhancement include:**\n",
    "\n",
    "**Enhanced Video Understanding**\n",
    "- Better video embeddings through CLIP fine-tuning on domain-specific data\n",
    "- Temporal information integration ([VIOLET](https://arxiv.org/abs/2111.12681), [All-in-one](https://arxiv.org/abs/2203.07303), [VideoMAE](https://arxiv.org/abs/2203.12602))\n",
    "- Initial content detection using object detectors ([DINO v2](https://arxiv.org/abs/2304.07193)) or VLMs ([CoCa](https://arxiv.org/abs/2205.01917)) to narrow search space\n",
    "- Smart data partitioning for efficient similarity search\n",
    "\n",
    "**System Optimizations**\n",
    "- Fine-tune CLIP on similar videos to improve domain understanding\n",
    "- Vector database implementation ([FAISS](https://github.com/facebookresearch/faiss), [Milvus](https://milvus.io/)) for fast retrieval\n",
    "- Quality threshold for filtering low-confidence matches\n",
    "- Caching and batch processing for better performance\n",
    "\n",
    "The video models mentioned (like VIOLET) incorporate temporal dynamics and better preserve sequential information. Fine-tuning CLIP on domain-specific video data would enhance embedding quality for particular use cases. Using content detection first (e.g., \"This video contains cooking scenes\") allows us to partition the search space and only compute cosine similarity with relevant video segments, making the system more efficient and accurate."
   ]
  }
 ],
 "metadata": {
  "kernelspec": {
   "display_name": "llm_env",
   "language": "python",
   "name": "llm_env"
  },
  "language_info": {
   "codemirror_mode": {
    "name": "ipython",
    "version": 3
   },
   "file_extension": ".py",
   "mimetype": "text/x-python",
   "name": "python",
   "nbconvert_exporter": "python",
   "pygments_lexer": "ipython3",
   "version": "3.10.13"
  }
 },
 "nbformat": 4,
 "nbformat_minor": 5
}
